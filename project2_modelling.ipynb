{
 "cells": [
  {
   "cell_type": "markdown",
   "metadata": {},
   "source": [
    "## Project 2 - Reddit Dataset\n",
    "\n",
    "### Modelling\n",
    "\n",
    "Modelling the combined dataset and individual dataset\n",
    "\n",
    "Importing the python libraries, reading the wine dataset, data exploration and selection of the data and labels\n",
    "\n",
    "1. Numpy: It will provide the support for efficient numerical computation.\n",
    "2. Pandas: It is convenient library that supports dataframes. Working with pandas will bring ease in many crucial data operations.\n",
    "3. Matplotlib: It provides a MATLAB-like plotting framework.\n",
    "4. Seaborn: It is a visualization library based on matplotlib which provides a high-level interface for drawing attractive statistical graphics.\n",
    "5. Sklearn: It is python library for data mining, data analysis and machine learning."
   ]
  },
  {
   "cell_type": "code",
   "execution_count": 22,
   "metadata": {},
   "outputs": [],
   "source": [
    "import sys\n",
    "import csv\n",
    "import numpy as np\n",
    "import pandas as pd\n",
    "import seaborn as sns\n",
    "import matplotlib as mpl\n",
    "import matplotlib.pyplot as plt\n",
    "%matplotlib inline\n",
    "\n",
    "import warnings\n",
    "warnings.filterwarnings('ignore')"
   ]
  },
  {
   "cell_type": "code",
   "execution_count": 23,
   "metadata": {},
   "outputs": [],
   "source": [
    "import sklearn.preprocessing as preproc\n",
    "from sklearn.model_selection import train_test_split\n",
    "from sklearn.preprocessing import StandardScaler\n",
    "from sklearn.preprocessing import LabelBinarizer\n",
    "from sklearn.metrics import accuracy_score\n",
    "from sklearn.metrics import mean_squared_error, r2_score, mean_absolute_error\n",
    "from sklearn.dummy import DummyRegressor\n",
    "from sklearn.linear_model import LinearRegression\n",
    "from sklearn.linear_model import LogisticRegression\n",
    "from sklearn.neighbors import KNeighborsRegressor\n",
    "from sklearn.tree import DecisionTreeRegressor\n",
    "from sklearn.ensemble import RandomForestRegressor\n",
    "from sklearn.ensemble import GradientBoostingRegressor\n",
    "from sklearn.feature_extraction import text"
   ]
  },
  {
   "cell_type": "code",
   "execution_count": 24,
   "metadata": {},
   "outputs": [
    {
     "name": "stdout",
     "output_type": "stream",
     "text": [
      " Volume in drive C is OS\n",
      " Volume Serial Number is D02B-1246\n",
      "\n",
      " Directory of C:\\Users\\somak\\Desktop\\McMaster University\\Term 2 - Winter Term 2019\\CHEMENG 787 Machine Learning  Classification Models\\Python-Reddit-Data-Prediction-Machine-Learning\n",
      "\n",
      "2020-04-15  10:47 PM        17,599,245 combined_data.csv\n",
      "2020-04-15  10:47 PM        71,282,650 RS_2019_01_02_03_04.csv\n",
      "2020-04-15  10:47 PM        36,320,928 RS_2019_05_06.csv\n",
      "2020-04-15  10:47 PM        36,030,582 RS_2019_07_08.csv\n",
      "2020-04-15  10:47 PM         4,363,791 testing_data.csv\n",
      "2020-04-15  10:47 PM         8,768,650 training_data.csv\n",
      "2020-04-15  10:47 PM         4,359,937 validation_data.csv\n",
      "               7 File(s)    178,725,783 bytes\n",
      "               0 Dir(s)  50,990,391,296 bytes free\n"
     ]
    }
   ],
   "source": [
    "%ls *.csv"
   ]
  },
  {
   "cell_type": "markdown",
   "metadata": {},
   "source": [
    "### Loading Combined Dataset"
   ]
  },
  {
   "cell_type": "code",
   "execution_count": 25,
   "metadata": {},
   "outputs": [],
   "source": [
    "combined_data = pd.read_csv(\"combined_data.csv\")"
   ]
  },
  {
   "cell_type": "code",
   "execution_count": 26,
   "metadata": {},
   "outputs": [
    {
     "data": {
      "text/plain": [
       "(79999, 17)"
      ]
     },
     "execution_count": 26,
     "metadata": {},
     "output_type": "execute_result"
    }
   ],
   "source": [
    "combined_data.shape"
   ]
  },
  {
   "cell_type": "code",
   "execution_count": 27,
   "metadata": {},
   "outputs": [
    {
     "name": "stdout",
     "output_type": "stream",
     "text": [
      "<class 'pandas.core.frame.DataFrame'>\n",
      "RangeIndex: 79999 entries, 0 to 79998\n",
      "Data columns (total 17 columns):\n",
      "Unnamed: 0           79999 non-null int64\n",
      "title                79999 non-null object\n",
      "archived             79509 non-null object\n",
      "author               79999 non-null object\n",
      "author_flair_text    9160 non-null object\n",
      "created_utc          79999 non-null int64\n",
      "subreddit_id         79999 non-null object\n",
      "score                79999 non-null int64\n",
      "retrieved_on         79999 non-null int64\n",
      "gilded               79999 non-null int64\n",
      "id                   79999 non-null object\n",
      "subreddit            79999 non-null object\n",
      "distinguished        889 non-null object\n",
      "url                  79999 non-null object\n",
      "num_comments         79999 non-null float64\n",
      "score_category       79999 non-null object\n",
      "Numerical_Score      79999 non-null int64\n",
      "dtypes: float64(1), int64(6), object(10)\n",
      "memory usage: 10.4+ MB\n"
     ]
    }
   ],
   "source": [
    "combined_data.info()"
   ]
  },
  {
   "cell_type": "code",
   "execution_count": 28,
   "metadata": {
    "scrolled": false
   },
   "outputs": [
    {
     "data": {
      "text/html": [
       "<div>\n",
       "<style scoped>\n",
       "    .dataframe tbody tr th:only-of-type {\n",
       "        vertical-align: middle;\n",
       "    }\n",
       "\n",
       "    .dataframe tbody tr th {\n",
       "        vertical-align: top;\n",
       "    }\n",
       "\n",
       "    .dataframe thead th {\n",
       "        text-align: right;\n",
       "    }\n",
       "</style>\n",
       "<table border=\"1\" class=\"dataframe\">\n",
       "  <thead>\n",
       "    <tr style=\"text-align: right;\">\n",
       "      <th></th>\n",
       "      <th>Unnamed: 0</th>\n",
       "      <th>title</th>\n",
       "      <th>archived</th>\n",
       "      <th>author</th>\n",
       "      <th>author_flair_text</th>\n",
       "      <th>created_utc</th>\n",
       "      <th>subreddit_id</th>\n",
       "      <th>score</th>\n",
       "      <th>retrieved_on</th>\n",
       "      <th>gilded</th>\n",
       "      <th>id</th>\n",
       "      <th>subreddit</th>\n",
       "      <th>distinguished</th>\n",
       "      <th>url</th>\n",
       "      <th>num_comments</th>\n",
       "      <th>score_category</th>\n",
       "      <th>Numerical_Score</th>\n",
       "    </tr>\n",
       "  </thead>\n",
       "  <tbody>\n",
       "    <tr>\n",
       "      <th>0</th>\n",
       "      <td>0</td>\n",
       "      <td>The January 2019 Superthread</td>\n",
       "      <td>False</td>\n",
       "      <td>Racer_77</td>\n",
       "      <td>The Wiki Mod™ :pixel2xlblack:</td>\n",
       "      <td>1546360220</td>\n",
       "      <td>t5_3aobb</td>\n",
       "      <td>1656</td>\n",
       "      <td>1548973150</td>\n",
       "      <td>0</td>\n",
       "      <td>aa66wl</td>\n",
       "      <td>GooglePixel</td>\n",
       "      <td>moderator</td>\n",
       "      <td>https://www.reddit.com/r/GooglePixel/comments/...</td>\n",
       "      <td>14.0</td>\n",
       "      <td>Popular</td>\n",
       "      <td>4</td>\n",
       "    </tr>\n",
       "    <tr>\n",
       "      <th>1</th>\n",
       "      <td>1</td>\n",
       "      <td>Have a perfectly balanced happy new year from ...</td>\n",
       "      <td>False</td>\n",
       "      <td>Dark_pheonix1183</td>\n",
       "      <td>Spider-Man</td>\n",
       "      <td>1546300881</td>\n",
       "      <td>t5_2uii8</td>\n",
       "      <td>1524</td>\n",
       "      <td>1552566683</td>\n",
       "      <td>0</td>\n",
       "      <td>abct96</td>\n",
       "      <td>marvelstudios</td>\n",
       "      <td>NaN</td>\n",
       "      <td>https://v.redd.it/lvyg8smibp721</td>\n",
       "      <td>2.0</td>\n",
       "      <td>Popular</td>\n",
       "      <td>4</td>\n",
       "    </tr>\n",
       "    <tr>\n",
       "      <th>2</th>\n",
       "      <td>2</td>\n",
       "      <td>You are not able to build on top of this gas s...</td>\n",
       "      <td>False</td>\n",
       "      <td>[deleted]</td>\n",
       "      <td>NaN</td>\n",
       "      <td>1546300890</td>\n",
       "      <td>t5_3oeyf</td>\n",
       "      <td>1395</td>\n",
       "      <td>1552566695</td>\n",
       "      <td>0</td>\n",
       "      <td>abcuax</td>\n",
       "      <td>FortNiteBR</td>\n",
       "      <td>NaN</td>\n",
       "      <td>https://v.redd.it/7df5xwixbp721</td>\n",
       "      <td>0.0</td>\n",
       "      <td>Popular</td>\n",
       "      <td>4</td>\n",
       "    </tr>\n",
       "    <tr>\n",
       "      <th>3</th>\n",
       "      <td>3</td>\n",
       "      <td>Showerthought: F-14 Tomcats used by the Irania...</td>\n",
       "      <td>False</td>\n",
       "      <td>ChineseToTheBone</td>\n",
       "      <td>NaN</td>\n",
       "      <td>1546300800</td>\n",
       "      <td>t5_2tifv</td>\n",
       "      <td>1790</td>\n",
       "      <td>1552566697</td>\n",
       "      <td>0</td>\n",
       "      <td>abcufh</td>\n",
       "      <td>hoggit</td>\n",
       "      <td>NaN</td>\n",
       "      <td>https://www.reddit.com/r/hoggit/comments/abcuf...</td>\n",
       "      <td>27.0</td>\n",
       "      <td>Popular</td>\n",
       "      <td>4</td>\n",
       "    </tr>\n",
       "    <tr>\n",
       "      <th>4</th>\n",
       "      <td>4</td>\n",
       "      <td>Game Thread - Tampa Bay Lightning @ Anaheim Ducks</td>\n",
       "      <td>False</td>\n",
       "      <td>wild-wing</td>\n",
       "      <td>NaN</td>\n",
       "      <td>1546300800</td>\n",
       "      <td>t5_2rqhz</td>\n",
       "      <td>1741</td>\n",
       "      <td>1552566697</td>\n",
       "      <td>0</td>\n",
       "      <td>abcufj</td>\n",
       "      <td>AnaheimDucks</td>\n",
       "      <td>NaN</td>\n",
       "      <td>https://www.reddit.com/r/AnaheimDucks/comments...</td>\n",
       "      <td>109.0</td>\n",
       "      <td>Popular</td>\n",
       "      <td>4</td>\n",
       "    </tr>\n",
       "  </tbody>\n",
       "</table>\n",
       "</div>"
      ],
      "text/plain": [
       "   Unnamed: 0                                              title archived  \\\n",
       "0           0                       The January 2019 Superthread    False   \n",
       "1           1  Have a perfectly balanced happy new year from ...    False   \n",
       "2           2  You are not able to build on top of this gas s...    False   \n",
       "3           3  Showerthought: F-14 Tomcats used by the Irania...    False   \n",
       "4           4  Game Thread - Tampa Bay Lightning @ Anaheim Ducks    False   \n",
       "\n",
       "             author              author_flair_text  created_utc subreddit_id  \\\n",
       "0          Racer_77  The Wiki Mod™ :pixel2xlblack:   1546360220     t5_3aobb   \n",
       "1  Dark_pheonix1183                     Spider-Man   1546300881     t5_2uii8   \n",
       "2         [deleted]                            NaN   1546300890     t5_3oeyf   \n",
       "3  ChineseToTheBone                            NaN   1546300800     t5_2tifv   \n",
       "4         wild-wing                            NaN   1546300800     t5_2rqhz   \n",
       "\n",
       "   score  retrieved_on  gilded      id      subreddit distinguished  \\\n",
       "0   1656    1548973150       0  aa66wl    GooglePixel     moderator   \n",
       "1   1524    1552566683       0  abct96  marvelstudios           NaN   \n",
       "2   1395    1552566695       0  abcuax     FortNiteBR           NaN   \n",
       "3   1790    1552566697       0  abcufh         hoggit           NaN   \n",
       "4   1741    1552566697       0  abcufj   AnaheimDucks           NaN   \n",
       "\n",
       "                                                 url  num_comments  \\\n",
       "0  https://www.reddit.com/r/GooglePixel/comments/...          14.0   \n",
       "1                    https://v.redd.it/lvyg8smibp721           2.0   \n",
       "2                    https://v.redd.it/7df5xwixbp721           0.0   \n",
       "3  https://www.reddit.com/r/hoggit/comments/abcuf...          27.0   \n",
       "4  https://www.reddit.com/r/AnaheimDucks/comments...         109.0   \n",
       "\n",
       "  score_category  Numerical_Score  \n",
       "0        Popular                4  \n",
       "1        Popular                4  \n",
       "2        Popular                4  \n",
       "3        Popular                4  \n",
       "4        Popular                4  "
      ]
     },
     "execution_count": 28,
     "metadata": {},
     "output_type": "execute_result"
    }
   ],
   "source": [
    "combined_data.head()"
   ]
  },
  {
   "cell_type": "markdown",
   "metadata": {},
   "source": [
    "### Modelling \n",
    "\n",
    "Now that our text is in the format we want, we can begin the process of modeling.\n",
    "\n",
    "There are a few steps we must do before we start running models: we have to define the X and y variables and run a train-test split on the data."
   ]
  },
  {
   "cell_type": "code",
   "execution_count": 29,
   "metadata": {},
   "outputs": [],
   "source": [
    "feature_cols = ['title', 'archived', 'author', 'author_flair_text', 'created_utc', 'subreddit_id',\n",
    "                'score', 'retrieved_on', 'gilded', 'id', 'subreddit', 'distinguished', 'url', 'num_comments', 'score_category']\n",
    "X = combined_data[feature_cols] # Features\n",
    "y = combined_data.Numerical_Score # Target variable"
   ]
  },
  {
   "cell_type": "code",
   "execution_count": 30,
   "metadata": {},
   "outputs": [],
   "source": [
    "X = combined_data.num_comments\n",
    "y = combined_data.Numerical_Score"
   ]
  },
  {
   "cell_type": "code",
   "execution_count": 31,
   "metadata": {},
   "outputs": [
    {
     "data": {
      "image/png": "[encoded data removed]",
      "text/plain": [
       "<Figure size 432x288 with 1 Axes>"
      ]
     },
     "metadata": {
      "needs_background": "light"
     },
     "output_type": "display_data"
    }
   ],
   "source": [
    "plt.scatter(X, y)\n",
    "plt.xlabel('data')\n",
    "plt.ylabel('score')\n",
    "plt.show()"
   ]
  },
  {
   "cell_type": "markdown",
   "metadata": {},
   "source": [
    "### Transform features"
   ]
  },
  {
   "cell_type": "markdown",
   "metadata": {},
   "source": [
    "A train-test split is important because it allows us to reserve a portion of our data for test so that the model does not see all data before predicting. In this case we want to preserve the distribution of the classes, so we will stratify the data to match the distribution of the classes.\n",
    "\n",
    "Finally we split our data into a Training set and Validation set using scikit-learn \"train_test_split\" function."
   ]
  },
  {
   "cell_type": "code",
   "execution_count": 32,
   "metadata": {},
   "outputs": [],
   "source": [
    "training_data, test_data = train_test_split(combined_data, test_size=0.3, random_state=123)"
   ]
  },
  {
   "cell_type": "code",
   "execution_count": 33,
   "metadata": {},
   "outputs": [],
   "source": [
    "bow_transform = text.CountVectorizer()"
   ]
  },
  {
   "cell_type": "code",
   "execution_count": 34,
   "metadata": {},
   "outputs": [],
   "source": [
    "X_tr_bow = bow_transform.fit_transform(training_data['title'])\n",
    "X_te_bow = bow_transform.transform(test_data['title'])"
   ]
  },
  {
   "cell_type": "code",
   "execution_count": 35,
   "metadata": {},
   "outputs": [
    {
     "data": {
      "text/plain": [
       "47330"
      ]
     },
     "execution_count": 35,
     "metadata": {},
     "output_type": "execute_result"
    }
   ],
   "source": [
    "len(bow_transform.vocabulary_)"
   ]
  },
  {
   "cell_type": "code",
   "execution_count": 36,
   "metadata": {},
   "outputs": [
    {
     "data": {
      "text/plain": [
       "(55999, 47330)"
      ]
     },
     "execution_count": 36,
     "metadata": {},
     "output_type": "execute_result"
    }
   ],
   "source": [
    "X_tr_bow.shape"
   ]
  },
  {
   "cell_type": "code",
   "execution_count": 37,
   "metadata": {},
   "outputs": [],
   "source": [
    "y_tr = training_data['Numerical_Score']\n",
    "y_te = test_data['Numerical_Score']"
   ]
  },
  {
   "cell_type": "code",
   "execution_count": 38,
   "metadata": {},
   "outputs": [
    {
     "data": {
      "text/plain": [
       "<55999x47330 sparse matrix of type '<class 'numpy.int64'>'\n",
       "\twith 468122 stored elements in Compressed Sparse Row format>"
      ]
     },
     "execution_count": 38,
     "metadata": {},
     "output_type": "execute_result"
    }
   ],
   "source": [
    "X_tr_bow"
   ]
  },
  {
   "cell_type": "code",
   "execution_count": 39,
   "metadata": {},
   "outputs": [],
   "source": [
    "tfidf_trfm = text.TfidfTransformer(norm=None)\n",
    "\n",
    "X_tr_tfidf = tfidf_trfm.fit_transform(X_tr_bow)\n",
    "X_te_tfidf = tfidf_trfm.transform(X_te_bow)"
   ]
  },
  {
   "cell_type": "code",
   "execution_count": 40,
   "metadata": {},
   "outputs": [],
   "source": [
    "X_tr_l2 = preproc.normalize(X_tr_bow, axis=0)\n",
    "X_te_l2 = preproc.normalize(X_te_bow, axis=0)"
   ]
  },
  {
   "cell_type": "markdown",
   "metadata": {},
   "source": [
    "### logistic Regression"
   ]
  },
  {
   "cell_type": "code",
   "execution_count": 41,
   "metadata": {},
   "outputs": [],
   "source": [
    "def simple_logistic_classify(X_tr, y_tr, X_test, y_test, description, _C=1.0):\n",
    "    m = LogisticRegression(C=_C).fit(X_tr, y_tr)\n",
    "    s = m.score(X_test, y_test)\n",
    "    print ('Test score with', description, 'features:', s)\n",
    "    return m"
   ]
  },
  {
   "cell_type": "code",
   "execution_count": 42,
   "metadata": {},
   "outputs": [
    {
     "name": "stdout",
     "output_type": "stream",
     "text": [
      "Test score with bow features: 0.38758333333333334\n",
      "Test score with l2-normalized features: 0.3832083333333333\n",
      "Test score with tf-idf features: 0.3562916666666667\n"
     ]
    }
   ],
   "source": [
    "m1 = simple_logistic_classify(X_tr_bow, y_tr, X_te_bow, y_te, 'bow')\n",
    "m2 = simple_logistic_classify(X_tr_l2, y_tr, X_te_l2, y_te, 'l2-normalized')\n",
    "m3 = simple_logistic_classify(X_tr_tfidf, y_tr, X_te_tfidf, y_te, 'tf-idf')"
   ]
  },
  {
   "cell_type": "markdown",
   "metadata": {},
   "source": [
    "### Linear Regression"
   ]
  },
  {
   "cell_type": "code",
   "execution_count": 43,
   "metadata": {},
   "outputs": [],
   "source": [
    "model_performance_dict = dict()"
   ]
  },
  {
   "cell_type": "code",
   "execution_count": 44,
   "metadata": {},
   "outputs": [
    {
     "name": "stdout",
     "output_type": "stream",
     "text": [
      "Linear Regression \n",
      "==================\n",
      "Value of R-Sq: -1.477\n",
      "Value of RMSE: 1.955814781413484\n",
      "Value of MAE: 1.415537034594617\n"
     ]
    }
   ],
   "source": [
    "linear = LinearRegression()\n",
    "linear.fit(X_tr_bow, y_tr)\n",
    "\n",
    "model = linear\n",
    "y_predicted = model.predict(X_te_bow)\n",
    "r2 = r2_score(y_te, y_predicted)\n",
    "mse = mean_squared_error(y_te, y_predicted)\n",
    "mae = mean_absolute_error(y_te, y_predicted)\n",
    "print(f\"Linear Regression \")\n",
    "print(f\"==================\")\n",
    "print(f\"Value of R-Sq: {r2:.4}\")\n",
    "print(f\"Value of RMSE: {np.sqrt(mse)}\")\n",
    "print(f\"Value of MAE: {mae}\")"
   ]
  },
  {
   "cell_type": "markdown",
   "metadata": {},
   "source": [
    "### KNN Regression"
   ]
  },
  {
   "cell_type": "code",
   "execution_count": 45,
   "metadata": {},
   "outputs": [
    {
     "name": "stdout",
     "output_type": "stream",
     "text": [
      "KNN Regression \n",
      "===============\n",
      "Value of R-Sq: -0.09707\n",
      "Value of RMSE: 1.3016156626797841\n",
      "Value of MAE: 1.06925\n"
     ]
    }
   ],
   "source": [
    "knr = KNeighborsRegressor()\n",
    "knr.fit(X_tr_bow, y_tr)\n",
    "\n",
    "model = knr\n",
    "y_predicted = model.predict(X_te_bow)\n",
    "r2 = r2_score(y_te, y_predicted)\n",
    "mse = mean_squared_error(y_te, y_predicted)\n",
    "mae = mean_absolute_error(y_te, y_predicted)\n",
    "print(f\"KNN Regression \")\n",
    "print(f\"===============\")\n",
    "print(f\"Value of R-Sq: {r2:.4}\")\n",
    "print(f\"Value of RMSE: {np.sqrt(mse)}\")\n",
    "print(f\"Value of MAE: {mae}\")"
   ]
  },
  {
   "cell_type": "markdown",
   "metadata": {},
   "source": [
    "### Decision Tree"
   ]
  },
  {
   "cell_type": "code",
   "execution_count": 46,
   "metadata": {},
   "outputs": [
    {
     "name": "stdout",
     "output_type": "stream",
     "text": [
      "Decision Tree \n",
      "==============\n",
      "Value of R-Sq: 0.06674\n",
      "Value of RMSE: 1.2005106538547106\n",
      "Value of MAE: 0.992301648741583\n"
     ]
    }
   ],
   "source": [
    "dt = DecisionTreeRegressor(min_samples_split=45, min_samples_leaf=45, random_state = 10)\n",
    "dt.fit(X_tr_bow, y_tr)\n",
    "\n",
    "model = dt\n",
    "y_predicted = model.predict(X_te_bow)\n",
    "r2 = r2_score(y_te, y_predicted)\n",
    "mse = mean_squared_error(y_te, y_predicted)\n",
    "mae = mean_absolute_error(y_te, y_predicted)\n",
    "print(f\"Decision Tree \")\n",
    "print(f\"==============\")\n",
    "print(f\"Value of R-Sq: {r2:.4}\")\n",
    "print(f\"Value of RMSE: {np.sqrt(mse)}\")\n",
    "print(f\"Value of MAE: {mae}\")"
   ]
  },
  {
   "cell_type": "markdown",
   "metadata": {},
   "source": [
    "### Random Forest"
   ]
  },
  {
   "cell_type": "code",
   "execution_count": 47,
   "metadata": {},
   "outputs": [
    {
     "name": "stdout",
     "output_type": "stream",
     "text": [
      "Random Forest \n",
      "===============\n",
      "Value of R-Sq: 0.1008\n",
      "Value of RMSE: 1.178383269868654\n",
      "Value of MAE: 0.9716155746554924\n"
     ]
    }
   ],
   "source": [
    "rf = RandomForestRegressor(n_jobs=-1, n_estimators=70, min_samples_leaf=10, random_state = 10)\n",
    "rf.fit(X_tr_bow, y_tr)\n",
    "\n",
    "model = rf\n",
    "y_predicted = model.predict(X_te_bow)\n",
    "r2 = r2_score(y_te, y_predicted)\n",
    "mse = mean_squared_error(y_te, y_predicted)\n",
    "mae = mean_absolute_error(y_te, y_predicted)\n",
    "print(f\"Random Forest \")\n",
    "print(f\"===============\")\n",
    "print(f\"Value of R-Sq: {r2:.4}\")\n",
    "print(f\"Value of RMSE: {np.sqrt(mse)}\")\n",
    "print(f\"Value of MAE: {mae}\")"
   ]
  },
  {
   "cell_type": "markdown",
   "metadata": {},
   "source": [
    "### Gradient Boosting Regression"
   ]
  },
  {
   "cell_type": "code",
   "execution_count": 48,
   "metadata": {},
   "outputs": [
    {
     "name": "stdout",
     "output_type": "stream",
     "text": [
      "Gradient Boosting Regression \n",
      "==============================\n",
      "Value of R-Sq: 0.06836\n",
      "Value of RMSE: 1.1994737844943333\n",
      "Value of MAE: 0.9920039149379606\n"
     ]
    }
   ],
   "source": [
    "gbr = GradientBoostingRegressor(n_estimators=70, max_depth=5)\n",
    "gbr.fit(X_tr_bow, y_tr)\n",
    "\n",
    "model = gbr\n",
    "y_predicted = model.predict(X_te_bow)\n",
    "r2 = r2_score(y_te, y_predicted)\n",
    "mse = mean_squared_error(y_te, y_predicted)\n",
    "mae = mean_absolute_error(y_te, y_predicted)\n",
    "print(f\"Gradient Boosting Regression \")\n",
    "print(f\"==============================\")\n",
    "print(f\"Value of R-Sq: {r2:.4}\")\n",
    "print(f\"Value of RMSE: {np.sqrt(mse)}\")\n",
    "print(f\"Value of MAE: {mae}\")"
   ]
  },
  {
   "cell_type": "markdown",
   "metadata": {},
   "source": [
    "### Prediction with Individual data\n",
    "\n",
    "As we already created Training and Testing data earlier, we will now do the prediction on the individual data"
   ]
  },
  {
   "cell_type": "code",
   "execution_count": 49,
   "metadata": {},
   "outputs": [
    {
     "data": {
      "text/plain": [
       "(39999, 17)"
      ]
     },
     "execution_count": 49,
     "metadata": {},
     "output_type": "execute_result"
    }
   ],
   "source": [
    "training_data_individual = pd.read_csv(\"training_data.csv\")\n",
    "training_data_individual.shape"
   ]
  },
  {
   "cell_type": "code",
   "execution_count": 50,
   "metadata": {},
   "outputs": [
    {
     "data": {
      "text/html": [
       "<div>\n",
       "<style scoped>\n",
       "    .dataframe tbody tr th:only-of-type {\n",
       "        vertical-align: middle;\n",
       "    }\n",
       "\n",
       "    .dataframe tbody tr th {\n",
       "        vertical-align: top;\n",
       "    }\n",
       "\n",
       "    .dataframe thead th {\n",
       "        text-align: right;\n",
       "    }\n",
       "</style>\n",
       "<table border=\"1\" class=\"dataframe\">\n",
       "  <thead>\n",
       "    <tr style=\"text-align: right;\">\n",
       "      <th></th>\n",
       "      <th>Unnamed: 0</th>\n",
       "      <th>title</th>\n",
       "      <th>archived</th>\n",
       "      <th>author</th>\n",
       "      <th>author_flair_text</th>\n",
       "      <th>created_utc</th>\n",
       "      <th>subreddit_id</th>\n",
       "      <th>score</th>\n",
       "      <th>retrieved_on</th>\n",
       "      <th>gilded</th>\n",
       "      <th>id</th>\n",
       "      <th>subreddit</th>\n",
       "      <th>distinguished</th>\n",
       "      <th>url</th>\n",
       "      <th>num_comments</th>\n",
       "      <th>score_category</th>\n",
       "      <th>Numerical_Score</th>\n",
       "    </tr>\n",
       "  </thead>\n",
       "  <tbody>\n",
       "    <tr>\n",
       "      <th>0</th>\n",
       "      <td>0</td>\n",
       "      <td>The January 2019 Superthread</td>\n",
       "      <td>False</td>\n",
       "      <td>Racer_77</td>\n",
       "      <td>The Wiki Mod™ :pixel2xlblack:</td>\n",
       "      <td>1546360220</td>\n",
       "      <td>t5_3aobb</td>\n",
       "      <td>1180</td>\n",
       "      <td>1548973150</td>\n",
       "      <td>0</td>\n",
       "      <td>aa66wl</td>\n",
       "      <td>GooglePixel</td>\n",
       "      <td>moderator</td>\n",
       "      <td>https://www.reddit.com/r/GooglePixel/comments/...</td>\n",
       "      <td>14.0</td>\n",
       "      <td>Popular</td>\n",
       "      <td>4</td>\n",
       "    </tr>\n",
       "    <tr>\n",
       "      <th>1</th>\n",
       "      <td>1</td>\n",
       "      <td>Have a perfectly balanced happy new year from ...</td>\n",
       "      <td>False</td>\n",
       "      <td>Dark_pheonix1183</td>\n",
       "      <td>Spider-Man</td>\n",
       "      <td>1546300881</td>\n",
       "      <td>t5_2uii8</td>\n",
       "      <td>1048</td>\n",
       "      <td>1552566683</td>\n",
       "      <td>0</td>\n",
       "      <td>abct96</td>\n",
       "      <td>marvelstudios</td>\n",
       "      <td>NaN</td>\n",
       "      <td>https://v.redd.it/lvyg8smibp721</td>\n",
       "      <td>2.0</td>\n",
       "      <td>Popular</td>\n",
       "      <td>4</td>\n",
       "    </tr>\n",
       "    <tr>\n",
       "      <th>2</th>\n",
       "      <td>2</td>\n",
       "      <td>You are not able to build on top of this gas s...</td>\n",
       "      <td>False</td>\n",
       "      <td>[deleted]</td>\n",
       "      <td>NaN</td>\n",
       "      <td>1546300890</td>\n",
       "      <td>t5_3oeyf</td>\n",
       "      <td>919</td>\n",
       "      <td>1552566695</td>\n",
       "      <td>0</td>\n",
       "      <td>abcuax</td>\n",
       "      <td>FortNiteBR</td>\n",
       "      <td>NaN</td>\n",
       "      <td>https://v.redd.it/7df5xwixbp721</td>\n",
       "      <td>0.0</td>\n",
       "      <td>Popular</td>\n",
       "      <td>4</td>\n",
       "    </tr>\n",
       "    <tr>\n",
       "      <th>3</th>\n",
       "      <td>3</td>\n",
       "      <td>Showerthought: F-14 Tomcats used by the Irania...</td>\n",
       "      <td>False</td>\n",
       "      <td>ChineseToTheBone</td>\n",
       "      <td>NaN</td>\n",
       "      <td>1546300800</td>\n",
       "      <td>t5_2tifv</td>\n",
       "      <td>1314</td>\n",
       "      <td>1552566697</td>\n",
       "      <td>0</td>\n",
       "      <td>abcufh</td>\n",
       "      <td>hoggit</td>\n",
       "      <td>NaN</td>\n",
       "      <td>https://www.reddit.com/r/hoggit/comments/abcuf...</td>\n",
       "      <td>27.0</td>\n",
       "      <td>Popular</td>\n",
       "      <td>4</td>\n",
       "    </tr>\n",
       "    <tr>\n",
       "      <th>4</th>\n",
       "      <td>4</td>\n",
       "      <td>Game Thread - Tampa Bay Lightning @ Anaheim Ducks</td>\n",
       "      <td>False</td>\n",
       "      <td>wild-wing</td>\n",
       "      <td>NaN</td>\n",
       "      <td>1546300800</td>\n",
       "      <td>t5_2rqhz</td>\n",
       "      <td>1265</td>\n",
       "      <td>1552566697</td>\n",
       "      <td>0</td>\n",
       "      <td>abcufj</td>\n",
       "      <td>AnaheimDucks</td>\n",
       "      <td>NaN</td>\n",
       "      <td>https://www.reddit.com/r/AnaheimDucks/comments...</td>\n",
       "      <td>109.0</td>\n",
       "      <td>Popular</td>\n",
       "      <td>4</td>\n",
       "    </tr>\n",
       "  </tbody>\n",
       "</table>\n",
       "</div>"
      ],
      "text/plain": [
       "   Unnamed: 0                                              title archived  \\\n",
       "0           0                       The January 2019 Superthread    False   \n",
       "1           1  Have a perfectly balanced happy new year from ...    False   \n",
       "2           2  You are not able to build on top of this gas s...    False   \n",
       "3           3  Showerthought: F-14 Tomcats used by the Irania...    False   \n",
       "4           4  Game Thread - Tampa Bay Lightning @ Anaheim Ducks    False   \n",
       "\n",
       "             author              author_flair_text  created_utc subreddit_id  \\\n",
       "0          Racer_77  The Wiki Mod™ :pixel2xlblack:   1546360220     t5_3aobb   \n",
       "1  Dark_pheonix1183                     Spider-Man   1546300881     t5_2uii8   \n",
       "2         [deleted]                            NaN   1546300890     t5_3oeyf   \n",
       "3  ChineseToTheBone                            NaN   1546300800     t5_2tifv   \n",
       "4         wild-wing                            NaN   1546300800     t5_2rqhz   \n",
       "\n",
       "   score  retrieved_on  gilded      id      subreddit distinguished  \\\n",
       "0   1180    1548973150       0  aa66wl    GooglePixel     moderator   \n",
       "1   1048    1552566683       0  abct96  marvelstudios           NaN   \n",
       "2    919    1552566695       0  abcuax     FortNiteBR           NaN   \n",
       "3   1314    1552566697       0  abcufh         hoggit           NaN   \n",
       "4   1265    1552566697       0  abcufj   AnaheimDucks           NaN   \n",
       "\n",
       "                                                 url  num_comments  \\\n",
       "0  https://www.reddit.com/r/GooglePixel/comments/...          14.0   \n",
       "1                    https://v.redd.it/lvyg8smibp721           2.0   \n",
       "2                    https://v.redd.it/7df5xwixbp721           0.0   \n",
       "3  https://www.reddit.com/r/hoggit/comments/abcuf...          27.0   \n",
       "4  https://www.reddit.com/r/AnaheimDucks/comments...         109.0   \n",
       "\n",
       "  score_category  Numerical_Score  \n",
       "0        Popular                4  \n",
       "1        Popular                4  \n",
       "2        Popular                4  \n",
       "3        Popular                4  \n",
       "4        Popular                4  "
      ]
     },
     "execution_count": 50,
     "metadata": {},
     "output_type": "execute_result"
    }
   ],
   "source": [
    "training_data_individual.head()"
   ]
  },
  {
   "cell_type": "code",
   "execution_count": 51,
   "metadata": {},
   "outputs": [
    {
     "data": {
      "text/plain": [
       "(20000, 17)"
      ]
     },
     "execution_count": 51,
     "metadata": {},
     "output_type": "execute_result"
    }
   ],
   "source": [
    "testing_data_individual = pd.read_csv(\"testing_data.csv\")\n",
    "testing_data_individual.shape"
   ]
  },
  {
   "cell_type": "code",
   "execution_count": 52,
   "metadata": {},
   "outputs": [
    {
     "data": {
      "text/html": [
       "<div>\n",
       "<style scoped>\n",
       "    .dataframe tbody tr th:only-of-type {\n",
       "        vertical-align: middle;\n",
       "    }\n",
       "\n",
       "    .dataframe tbody tr th {\n",
       "        vertical-align: top;\n",
       "    }\n",
       "\n",
       "    .dataframe thead th {\n",
       "        text-align: right;\n",
       "    }\n",
       "</style>\n",
       "<table border=\"1\" class=\"dataframe\">\n",
       "  <thead>\n",
       "    <tr style=\"text-align: right;\">\n",
       "      <th></th>\n",
       "      <th>Unnamed: 0</th>\n",
       "      <th>title</th>\n",
       "      <th>archived</th>\n",
       "      <th>author</th>\n",
       "      <th>author_flair_text</th>\n",
       "      <th>created_utc</th>\n",
       "      <th>subreddit_id</th>\n",
       "      <th>score</th>\n",
       "      <th>retrieved_on</th>\n",
       "      <th>gilded</th>\n",
       "      <th>id</th>\n",
       "      <th>subreddit</th>\n",
       "      <th>distinguished</th>\n",
       "      <th>url</th>\n",
       "      <th>num_comments</th>\n",
       "      <th>score_category</th>\n",
       "      <th>Numerical_Score</th>\n",
       "    </tr>\n",
       "  </thead>\n",
       "  <tbody>\n",
       "    <tr>\n",
       "      <th>0</th>\n",
       "      <td>0</td>\n",
       "      <td>Job Description for the Stay-At-Home Mom Job D...</td>\n",
       "      <td>NaN</td>\n",
       "      <td>Donaldfxre</td>\n",
       "      <td>NaN</td>\n",
       "      <td>1556668800</td>\n",
       "      <td>t5_yy0v9</td>\n",
       "      <td>1</td>\n",
       "      <td>1556755178</td>\n",
       "      <td>0</td>\n",
       "      <td>bjalrb</td>\n",
       "      <td>u_Donaldfxre</td>\n",
       "      <td>NaN</td>\n",
       "      <td>https://fastmoney.moneybot.in.net/job-descript...</td>\n",
       "      <td>0</td>\n",
       "      <td>No-Votes</td>\n",
       "      <td>1</td>\n",
       "    </tr>\n",
       "    <tr>\n",
       "      <th>1</th>\n",
       "      <td>1</td>\n",
       "      <td>Because I’ve hurt my bf (M24) in the past I (F...</td>\n",
       "      <td>False</td>\n",
       "      <td>throwaway9173649266</td>\n",
       "      <td>NaN</td>\n",
       "      <td>1556668800</td>\n",
       "      <td>t5_2qjvn</td>\n",
       "      <td>1</td>\n",
       "      <td>1560620602</td>\n",
       "      <td>0</td>\n",
       "      <td>bjalrc</td>\n",
       "      <td>relationships</td>\n",
       "      <td>NaN</td>\n",
       "      <td>https://www.reddit.com/r/relationships/comment...</td>\n",
       "      <td>1</td>\n",
       "      <td>No-Votes</td>\n",
       "      <td>1</td>\n",
       "    </tr>\n",
       "    <tr>\n",
       "      <th>2</th>\n",
       "      <td>2</td>\n",
       "      <td>Found this Music Note Watch On The Street In A...</td>\n",
       "      <td>False</td>\n",
       "      <td>[deleted]</td>\n",
       "      <td>NaN</td>\n",
       "      <td>1556668800</td>\n",
       "      <td>t5_2ti4h</td>\n",
       "      <td>16</td>\n",
       "      <td>1560620602</td>\n",
       "      <td>0</td>\n",
       "      <td>bjalrd</td>\n",
       "      <td>mildlyinteresting</td>\n",
       "      <td>NaN</td>\n",
       "      <td>https://i.redd.it/xjahiippphv21.png</td>\n",
       "      <td>1</td>\n",
       "      <td>11-50 Votes</td>\n",
       "      <td>3</td>\n",
       "    </tr>\n",
       "    <tr>\n",
       "      <th>3</th>\n",
       "      <td>3</td>\n",
       "      <td>Once I had a nightmare that started looking ov...</td>\n",
       "      <td>False</td>\n",
       "      <td>Jackson-King</td>\n",
       "      <td>🎉 1,000,000 Attendee! 🎉</td>\n",
       "      <td>1556668800</td>\n",
       "      <td>t5_2rjli</td>\n",
       "      <td>6</td>\n",
       "      <td>1560620602</td>\n",
       "      <td>0</td>\n",
       "      <td>bjalre</td>\n",
       "      <td>teenagers</td>\n",
       "      <td>NaN</td>\n",
       "      <td>https://www.reddit.com/r/teenagers/comments/bj...</td>\n",
       "      <td>3</td>\n",
       "      <td>2-10 Votes</td>\n",
       "      <td>2</td>\n",
       "    </tr>\n",
       "    <tr>\n",
       "      <th>4</th>\n",
       "      <td>4</td>\n",
       "      <td>Babe with Big Ass Fucks in Ripped Fishnets and...</td>\n",
       "      <td>False</td>\n",
       "      <td>hot-x</td>\n",
       "      <td>NaN</td>\n",
       "      <td>1556668800</td>\n",
       "      <td>t5_wnujb</td>\n",
       "      <td>1</td>\n",
       "      <td>1560620602</td>\n",
       "      <td>0</td>\n",
       "      <td>bjalrf</td>\n",
       "      <td>make_me_cum</td>\n",
       "      <td>NaN</td>\n",
       "      <td>https://www.pornhub.com/view_video.php?viewkey...</td>\n",
       "      <td>0</td>\n",
       "      <td>No-Votes</td>\n",
       "      <td>1</td>\n",
       "    </tr>\n",
       "  </tbody>\n",
       "</table>\n",
       "</div>"
      ],
      "text/plain": [
       "   Unnamed: 0                                              title archived  \\\n",
       "0           0  Job Description for the Stay-At-Home Mom Job D...      NaN   \n",
       "1           1  Because I’ve hurt my bf (M24) in the past I (F...    False   \n",
       "2           2  Found this Music Note Watch On The Street In A...    False   \n",
       "3           3  Once I had a nightmare that started looking ov...    False   \n",
       "4           4  Babe with Big Ass Fucks in Ripped Fishnets and...    False   \n",
       "\n",
       "                author        author_flair_text  created_utc subreddit_id  \\\n",
       "0           Donaldfxre                      NaN   1556668800     t5_yy0v9   \n",
       "1  throwaway9173649266                      NaN   1556668800     t5_2qjvn   \n",
       "2            [deleted]                      NaN   1556668800     t5_2ti4h   \n",
       "3         Jackson-King  🎉 1,000,000 Attendee! 🎉   1556668800     t5_2rjli   \n",
       "4                hot-x                      NaN   1556668800     t5_wnujb   \n",
       "\n",
       "   score  retrieved_on  gilded      id          subreddit distinguished  \\\n",
       "0      1    1556755178       0  bjalrb       u_Donaldfxre           NaN   \n",
       "1      1    1560620602       0  bjalrc      relationships           NaN   \n",
       "2     16    1560620602       0  bjalrd  mildlyinteresting           NaN   \n",
       "3      6    1560620602       0  bjalre          teenagers           NaN   \n",
       "4      1    1560620602       0  bjalrf        make_me_cum           NaN   \n",
       "\n",
       "                                                 url  num_comments  \\\n",
       "0  https://fastmoney.moneybot.in.net/job-descript...             0   \n",
       "1  https://www.reddit.com/r/relationships/comment...             1   \n",
       "2                https://i.redd.it/xjahiippphv21.png             1   \n",
       "3  https://www.reddit.com/r/teenagers/comments/bj...             3   \n",
       "4  https://www.pornhub.com/view_video.php?viewkey...             0   \n",
       "\n",
       "  score_category  Numerical_Score  \n",
       "0       No-Votes                1  \n",
       "1       No-Votes                1  \n",
       "2    11-50 Votes                3  \n",
       "3     2-10 Votes                2  \n",
       "4       No-Votes                1  "
      ]
     },
     "execution_count": 52,
     "metadata": {},
     "output_type": "execute_result"
    }
   ],
   "source": [
    "testing_data_individual.head()"
   ]
  },
  {
   "cell_type": "code",
   "execution_count": 53,
   "metadata": {},
   "outputs": [],
   "source": [
    "bow_transform = text.CountVectorizer()"
   ]
  },
  {
   "cell_type": "code",
   "execution_count": 54,
   "metadata": {},
   "outputs": [],
   "source": [
    "X_tr_bow = bow_transform.fit_transform(training_data_individual['title'])\n",
    "X_te_bow = bow_transform.transform(testing_data_individual['title'])"
   ]
  },
  {
   "cell_type": "code",
   "execution_count": 55,
   "metadata": {},
   "outputs": [
    {
     "data": {
      "text/plain": [
       "37263"
      ]
     },
     "execution_count": 55,
     "metadata": {},
     "output_type": "execute_result"
    }
   ],
   "source": [
    "len(bow_transform.vocabulary_)"
   ]
  },
  {
   "cell_type": "code",
   "execution_count": 56,
   "metadata": {},
   "outputs": [
    {
     "data": {
      "text/plain": [
       "(39999, 37263)"
      ]
     },
     "execution_count": 56,
     "metadata": {},
     "output_type": "execute_result"
    }
   ],
   "source": [
    "X_tr_bow.shape"
   ]
  },
  {
   "cell_type": "code",
   "execution_count": 57,
   "metadata": {},
   "outputs": [],
   "source": [
    "y_tr = training_data_individual['Numerical_Score']\n",
    "y_te = testing_data_individual['Numerical_Score']"
   ]
  },
  {
   "cell_type": "code",
   "execution_count": 58,
   "metadata": {},
   "outputs": [
    {
     "data": {
      "text/plain": [
       "<39999x37263 sparse matrix of type '<class 'numpy.int64'>'\n",
       "\twith 329562 stored elements in Compressed Sparse Row format>"
      ]
     },
     "execution_count": 58,
     "metadata": {},
     "output_type": "execute_result"
    }
   ],
   "source": [
    "X_tr_bow"
   ]
  },
  {
   "cell_type": "markdown",
   "metadata": {},
   "source": [
    "### Linear Regression"
   ]
  },
  {
   "cell_type": "code",
   "execution_count": 59,
   "metadata": {},
   "outputs": [
    {
     "name": "stdout",
     "output_type": "stream",
     "text": [
      "Linear Regression \n",
      "==================\n",
      "Value of R-Sq: -4.498\n",
      "Value of RMSE: 2.6005993341069518\n",
      "Value of MAE: 1.8250948775400269\n"
     ]
    }
   ],
   "source": [
    "linear = LinearRegression()\n",
    "linear.fit(X_tr_bow, y_tr)\n",
    "\n",
    "model = linear\n",
    "y_predicted = model.predict(X_te_bow)\n",
    "r2 = r2_score(y_te, y_predicted)\n",
    "mse = mean_squared_error(y_te, y_predicted)\n",
    "mae = mean_absolute_error(y_te, y_predicted)\n",
    "print(f\"Linear Regression \")\n",
    "print(f\"==================\")\n",
    "print(f\"Value of R-Sq: {r2:.4}\")\n",
    "print(f\"Value of RMSE: {np.sqrt(mse)}\")\n",
    "print(f\"Value of MAE: {mae}\")"
   ]
  },
  {
   "cell_type": "markdown",
   "metadata": {},
   "source": [
    "### KNN Regression"
   ]
  },
  {
   "cell_type": "code",
   "execution_count": 60,
   "metadata": {},
   "outputs": [
    {
     "name": "stdout",
     "output_type": "stream",
     "text": [
      "KNN Regression \n",
      "===============\n",
      "Value of R-Sq: -0.5151\n",
      "Value of RMSE: 1.3651183098911244\n",
      "Value of MAE: 1.13446\n"
     ]
    }
   ],
   "source": [
    "knr = KNeighborsRegressor()\n",
    "knr.fit(X_tr_bow, y_tr)\n",
    "\n",
    "model = knr\n",
    "y_predicted = model.predict(X_te_bow)\n",
    "r2 = r2_score(y_te, y_predicted)\n",
    "mse = mean_squared_error(y_te, y_predicted)\n",
    "mae = mean_absolute_error(y_te, y_predicted)\n",
    "print(f\"KNN Regression \")\n",
    "print(f\"===============\")\n",
    "print(f\"Value of R-Sq: {r2:.4}\")\n",
    "print(f\"Value of RMSE: {np.sqrt(mse)}\")\n",
    "print(f\"Value of MAE: {mae}\")"
   ]
  },
  {
   "cell_type": "markdown",
   "metadata": {},
   "source": [
    "### Gradient Boosting Regression"
   ]
  },
  {
   "cell_type": "code",
   "execution_count": 61,
   "metadata": {},
   "outputs": [
    {
     "name": "stdout",
     "output_type": "stream",
     "text": [
      "Gradient Boosting Regression \n",
      "==============================\n",
      "Value of R-Sq: -0.08323\n",
      "Value of RMSE: 1.1542843595864\n",
      "Value of MAE: 0.983596199651903\n"
     ]
    }
   ],
   "source": [
    "gbr = GradientBoostingRegressor(n_estimators=70, max_depth=5)\n",
    "gbr.fit(X_tr_bow, y_tr)\n",
    "\n",
    "model = gbr\n",
    "y_predicted = model.predict(X_te_bow)\n",
    "r2 = r2_score(y_te, y_predicted)\n",
    "mse = mean_squared_error(y_te, y_predicted)\n",
    "mae = mean_absolute_error(y_te, y_predicted)\n",
    "print(f\"Gradient Boosting Regression \")\n",
    "print(f\"==============================\")\n",
    "print(f\"Value of R-Sq: {r2:.4}\")\n",
    "print(f\"Value of RMSE: {np.sqrt(mse)}\")\n",
    "print(f\"Value of MAE: {mae}\")"
   ]
  }
 ],
 "metadata": {
  "kernelspec": {
   "display_name": "Python 3",
   "language": "python",
   "name": "python3"
  },
  "language_info": {
   "codemirror_mode": {
    "name": "ipython",
    "version": 3
   },
   "file_extension": ".py",
   "mimetype": "text/x-python",
   "name": "python",
   "nbconvert_exporter": "python",
   "pygments_lexer": "ipython3",
   "version": "3.7.3"
  }
 },
 "nbformat": 4,
 "nbformat_minor": 2
}
