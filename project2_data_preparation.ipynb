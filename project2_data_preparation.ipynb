{
 "cells": [
  {
   "cell_type": "markdown",
   "metadata": {},
   "source": [
    "## Project 2 - Reddit Dataset\n",
    "\n",
    "\n",
    "### Data Preparation\n",
    "\n",
    "- Pre-processing steps which include loading the data and working with the features\n",
    "\n",
    "Importing the python libraries, reading the reddit dataset, data exploration and selection of the data and labels\n",
    "\n",
    "1. Numpy: It will provide the support for efficient numerical computation.\n",
    "2. Pandas: It is convenient library that supports dataframes. Working with pandas will bring ease in many crucial data operations.\n",
    "3. Matplotlib: It provides a MATLAB-like plotting framework.\n",
    "4. Seaborn: It is a visualization library based on matplotlib which provides a high-level interface for drawing attractive statistical graphics.\n",
    "5. Sklearn: It is python library for data mining, data analysis and machine learning."
   ]
  },
  {
   "cell_type": "code",
   "execution_count": 1,
   "metadata": {},
   "outputs": [],
   "source": [
    "import sys\n",
    "import csv\n",
    "import os\n",
    "import zipfile\n",
    "import numpy as np\n",
    "import pandas as pd\n",
    "import seaborn as sns\n",
    "import matplotlib as mpl\n",
    "import matplotlib.pyplot as plt\n",
    "%matplotlib inline\n",
    "\n",
    "import warnings\n",
    "warnings.filterwarnings('ignore')"
   ]
  },
  {
   "cell_type": "code",
   "execution_count": 2,
   "metadata": {},
   "outputs": [],
   "source": [
    "import sklearn.preprocessing as preproc\n",
    "from sklearn.model_selection import train_test_split\n",
    "from sklearn.preprocessing import StandardScaler\n",
    "from sklearn.preprocessing import LabelBinarizer\n",
    "from sklearn.metrics import accuracy_score\n",
    "from sklearn.metrics import mean_squared_error, r2_score, mean_absolute_error\n",
    "from sklearn.linear_model import LinearRegression\n",
    "from sklearn.neighbors import KNeighborsRegressor\n",
    "from sklearn.tree import DecisionTreeRegressor\n",
    "from sklearn.ensemble import RandomForestRegressor\n",
    "from sklearn.ensemble import GradientBoostingRegressor"
   ]
  },
  {
   "cell_type": "markdown",
   "metadata": {},
   "source": [
    "### Data Extraction Process\n",
    "\n",
    "Since the downloaded JSON file (.zst) is too big that is why we extracted certain data from each JSON file and then concat it. Which we did by the folllowing steps:\n",
    "\n",
    "1. First we need to decompress the each JSON file as follow : zstd -d <filename>\n",
    "    \n",
    "2. Then with python scripts : file_extraction.py : we read the JSON file and then save it to CSV file.\n",
    "\n",
    "In below there are the list of CSV files."
   ]
  },
  {
   "cell_type": "code",
   "execution_count": 3,
   "metadata": {},
   "outputs": [
    {
     "name": "stdout",
     "output_type": "stream",
     "text": [
      " Volume in drive C is OS\n",
      " Volume Serial Number is D02B-1246\n",
      "\n",
      " Directory of C:\\Users\\somak\\Desktop\\Python-Reddit-Data-Prediction-Machine-Learning\n",
      "\n",
      "2020-04-15  10:26 PM        16,236,545 RS_2019_01_02_03_04.zip\n",
      "2020-04-15  10:33 PM         8,358,687 RS_2019_05_06.zip\n",
      "2020-04-15  10:33 PM         8,303,239 RS_2019_07_08.zip\n",
      "               3 File(s)     32,898,471 bytes\n",
      "               0 Dir(s)  98,810,384,384 bytes free\n"
     ]
    }
   ],
   "source": [
    "%ls *.zip"
   ]
  },
  {
   "cell_type": "code",
   "execution_count": 4,
   "metadata": {},
   "outputs": [],
   "source": [
    "for filename in os.listdir():\n",
    "    if filename.endswith(\".zip\"):\n",
    "        with zipfile.ZipFile(filename,\"r\") as zip_ref:\n",
    "            zip_ref.extractall()"
   ]
  },
  {
   "cell_type": "code",
   "execution_count": 5,
   "metadata": {},
   "outputs": [
    {
     "name": "stdout",
     "output_type": "stream",
     "text": [
      " Volume in drive C is OS\n",
      " Volume Serial Number is D02B-1246\n",
      "\n",
      " Directory of C:\\Users\\somak\\Desktop\\Python-Reddit-Data-Prediction-Machine-Learning\n",
      "\n",
      "2020-04-21  06:18 PM        71,282,650 RS_2019_01_02_03_04.csv\n",
      "2020-04-21  06:18 PM        36,320,928 RS_2019_05_06.csv\n",
      "2020-04-21  06:18 PM        36,030,582 RS_2019_07_08.csv\n",
      "               3 File(s)    143,634,160 bytes\n",
      "               0 Dir(s)  98,431,864,832 bytes free\n"
     ]
    }
   ],
   "source": [
    "%ls RS*.csv"
   ]
  },
  {
   "cell_type": "markdown",
   "metadata": {},
   "source": [
    "### Loading Reddit Dataset\n",
    "\n",
    "After extraction of CSV files, now we can read the each file with pandas DataFrame and check the size of data we have for the future process.\n",
    "\n",
    "From the shape command we can see the total data and row present in the wine dataset.\n",
    "\n",
    "- Syntax: dataframe.shape\n",
    "- Return : Returns tuple of shape (Rows, columns) of dataframe/series"
   ]
  },
  {
   "cell_type": "code",
   "execution_count": 6,
   "metadata": {},
   "outputs": [],
   "source": [
    "df1 = pd.read_csv('RS_2019_01_02_03_04.csv')\n",
    "df2 = pd.read_csv('RS_2019_05_06.csv')\n",
    "df3 = pd.read_csv('RS_2019_07_08.csv')"
   ]
  },
  {
   "cell_type": "code",
   "execution_count": 7,
   "metadata": {},
   "outputs": [
    {
     "data": {
      "text/plain": [
       "((40001, 110), (20000, 109), (20000, 113))"
      ]
     },
     "execution_count": 7,
     "metadata": {},
     "output_type": "execute_result"
    }
   ],
   "source": [
    "df1.shape, df2.shape, df3.shape"
   ]
  },
  {
   "cell_type": "markdown",
   "metadata": {},
   "source": [
    "### Data Exploration\n",
    "\n",
    "By the describe command we can fine the mean, std, min and different lavels of value over the dataset.\n",
    "\n",
    "Pandas describe() is used to view some basic statistical details like percentile, mean, std etc. of a data frame or a series of numeric values. When this method is applied to a series of string, it returns a different output which is shown in the examples below."
   ]
  },
  {
   "cell_type": "code",
   "execution_count": 8,
   "metadata": {},
   "outputs": [
    {
     "data": {
      "text/html": [
       "<div>\n",
       "<style scoped>\n",
       "    .dataframe tbody tr th:only-of-type {\n",
       "        vertical-align: middle;\n",
       "    }\n",
       "\n",
       "    .dataframe tbody tr th {\n",
       "        vertical-align: top;\n",
       "    }\n",
       "\n",
       "    .dataframe thead th {\n",
       "        text-align: right;\n",
       "    }\n",
       "</style>\n",
       "<table border=\"1\" class=\"dataframe\">\n",
       "  <thead>\n",
       "    <tr style=\"text-align: right;\">\n",
       "      <th></th>\n",
       "      <th>Unnamed: 0</th>\n",
       "      <th>num_comments</th>\n",
       "      <th>thumbnail_height</th>\n",
       "      <th>thumbnail_width</th>\n",
       "      <th>wls</th>\n",
       "      <th>adserver_click_url</th>\n",
       "      <th>adserver_imp_pixel</th>\n",
       "      <th>embed_type</th>\n",
       "      <th>embed_url</th>\n",
       "      <th>original_link</th>\n",
       "      <th>priority_id</th>\n",
       "      <th>promoted_by</th>\n",
       "      <th>promoted_display_name</th>\n",
       "      <th>promoted_url</th>\n",
       "      <th>third_party_tracking</th>\n",
       "      <th>third_party_tracking_2</th>\n",
       "      <th>total_awards_received</th>\n",
       "    </tr>\n",
       "  </thead>\n",
       "  <tbody>\n",
       "    <tr>\n",
       "      <th>count</th>\n",
       "      <td>40000.000000</td>\n",
       "      <td>40000.000000</td>\n",
       "      <td>24031.000000</td>\n",
       "      <td>24031.000000</td>\n",
       "      <td>27237.000000</td>\n",
       "      <td>0.0</td>\n",
       "      <td>0.0</td>\n",
       "      <td>0.0</td>\n",
       "      <td>0.0</td>\n",
       "      <td>0.0</td>\n",
       "      <td>0.0</td>\n",
       "      <td>0.0</td>\n",
       "      <td>0.0</td>\n",
       "      <td>0.0</td>\n",
       "      <td>0.0</td>\n",
       "      <td>0.0</td>\n",
       "      <td>19944.000000</td>\n",
       "    </tr>\n",
       "    <tr>\n",
       "      <th>mean</th>\n",
       "      <td>4999.500000</td>\n",
       "      <td>7.710500</td>\n",
       "      <td>113.133036</td>\n",
       "      <td>139.733178</td>\n",
       "      <td>5.027940</td>\n",
       "      <td>NaN</td>\n",
       "      <td>NaN</td>\n",
       "      <td>NaN</td>\n",
       "      <td>NaN</td>\n",
       "      <td>NaN</td>\n",
       "      <td>NaN</td>\n",
       "      <td>NaN</td>\n",
       "      <td>NaN</td>\n",
       "      <td>NaN</td>\n",
       "      <td>NaN</td>\n",
       "      <td>NaN</td>\n",
       "      <td>0.004061</td>\n",
       "    </tr>\n",
       "    <tr>\n",
       "      <th>std</th>\n",
       "      <td>2886.787417</td>\n",
       "      <td>88.025467</td>\n",
       "      <td>28.008800</td>\n",
       "      <td>4.407703</td>\n",
       "      <td>1.947747</td>\n",
       "      <td>NaN</td>\n",
       "      <td>NaN</td>\n",
       "      <td>NaN</td>\n",
       "      <td>NaN</td>\n",
       "      <td>NaN</td>\n",
       "      <td>NaN</td>\n",
       "      <td>NaN</td>\n",
       "      <td>NaN</td>\n",
       "      <td>NaN</td>\n",
       "      <td>NaN</td>\n",
       "      <td>NaN</td>\n",
       "      <td>0.090868</td>\n",
       "    </tr>\n",
       "    <tr>\n",
       "      <th>min</th>\n",
       "      <td>0.000000</td>\n",
       "      <td>0.000000</td>\n",
       "      <td>1.000000</td>\n",
       "      <td>1.000000</td>\n",
       "      <td>0.000000</td>\n",
       "      <td>NaN</td>\n",
       "      <td>NaN</td>\n",
       "      <td>NaN</td>\n",
       "      <td>NaN</td>\n",
       "      <td>NaN</td>\n",
       "      <td>NaN</td>\n",
       "      <td>NaN</td>\n",
       "      <td>NaN</td>\n",
       "      <td>NaN</td>\n",
       "      <td>NaN</td>\n",
       "      <td>NaN</td>\n",
       "      <td>0.000000</td>\n",
       "    </tr>\n",
       "    <tr>\n",
       "      <th>25%</th>\n",
       "      <td>2499.750000</td>\n",
       "      <td>0.000000</td>\n",
       "      <td>86.000000</td>\n",
       "      <td>140.000000</td>\n",
       "      <td>6.000000</td>\n",
       "      <td>NaN</td>\n",
       "      <td>NaN</td>\n",
       "      <td>NaN</td>\n",
       "      <td>NaN</td>\n",
       "      <td>NaN</td>\n",
       "      <td>NaN</td>\n",
       "      <td>NaN</td>\n",
       "      <td>NaN</td>\n",
       "      <td>NaN</td>\n",
       "      <td>NaN</td>\n",
       "      <td>NaN</td>\n",
       "      <td>0.000000</td>\n",
       "    </tr>\n",
       "    <tr>\n",
       "      <th>50%</th>\n",
       "      <td>4999.500000</td>\n",
       "      <td>1.000000</td>\n",
       "      <td>116.000000</td>\n",
       "      <td>140.000000</td>\n",
       "      <td>6.000000</td>\n",
       "      <td>NaN</td>\n",
       "      <td>NaN</td>\n",
       "      <td>NaN</td>\n",
       "      <td>NaN</td>\n",
       "      <td>NaN</td>\n",
       "      <td>NaN</td>\n",
       "      <td>NaN</td>\n",
       "      <td>NaN</td>\n",
       "      <td>NaN</td>\n",
       "      <td>NaN</td>\n",
       "      <td>NaN</td>\n",
       "      <td>0.000000</td>\n",
       "    </tr>\n",
       "    <tr>\n",
       "      <th>75%</th>\n",
       "      <td>7499.250000</td>\n",
       "      <td>5.000000</td>\n",
       "      <td>140.000000</td>\n",
       "      <td>140.000000</td>\n",
       "      <td>6.000000</td>\n",
       "      <td>NaN</td>\n",
       "      <td>NaN</td>\n",
       "      <td>NaN</td>\n",
       "      <td>NaN</td>\n",
       "      <td>NaN</td>\n",
       "      <td>NaN</td>\n",
       "      <td>NaN</td>\n",
       "      <td>NaN</td>\n",
       "      <td>NaN</td>\n",
       "      <td>NaN</td>\n",
       "      <td>NaN</td>\n",
       "      <td>0.000000</td>\n",
       "    </tr>\n",
       "    <tr>\n",
       "      <th>max</th>\n",
       "      <td>9999.000000</td>\n",
       "      <td>10049.000000</td>\n",
       "      <td>140.000000</td>\n",
       "      <td>140.000000</td>\n",
       "      <td>6.000000</td>\n",
       "      <td>NaN</td>\n",
       "      <td>NaN</td>\n",
       "      <td>NaN</td>\n",
       "      <td>NaN</td>\n",
       "      <td>NaN</td>\n",
       "      <td>NaN</td>\n",
       "      <td>NaN</td>\n",
       "      <td>NaN</td>\n",
       "      <td>NaN</td>\n",
       "      <td>NaN</td>\n",
       "      <td>NaN</td>\n",
       "      <td>7.000000</td>\n",
       "    </tr>\n",
       "  </tbody>\n",
       "</table>\n",
       "</div>"
      ],
      "text/plain": [
       "         Unnamed: 0  num_comments  thumbnail_height  thumbnail_width  \\\n",
       "count  40000.000000  40000.000000      24031.000000     24031.000000   \n",
       "mean    4999.500000      7.710500        113.133036       139.733178   \n",
       "std     2886.787417     88.025467         28.008800         4.407703   \n",
       "min        0.000000      0.000000          1.000000         1.000000   \n",
       "25%     2499.750000      0.000000         86.000000       140.000000   \n",
       "50%     4999.500000      1.000000        116.000000       140.000000   \n",
       "75%     7499.250000      5.000000        140.000000       140.000000   \n",
       "max     9999.000000  10049.000000        140.000000       140.000000   \n",
       "\n",
       "                wls  adserver_click_url  adserver_imp_pixel  embed_type  \\\n",
       "count  27237.000000                 0.0                 0.0         0.0   \n",
       "mean       5.027940                 NaN                 NaN         NaN   \n",
       "std        1.947747                 NaN                 NaN         NaN   \n",
       "min        0.000000                 NaN                 NaN         NaN   \n",
       "25%        6.000000                 NaN                 NaN         NaN   \n",
       "50%        6.000000                 NaN                 NaN         NaN   \n",
       "75%        6.000000                 NaN                 NaN         NaN   \n",
       "max        6.000000                 NaN                 NaN         NaN   \n",
       "\n",
       "       embed_url  original_link  priority_id  promoted_by  \\\n",
       "count        0.0            0.0          0.0          0.0   \n",
       "mean         NaN            NaN          NaN          NaN   \n",
       "std          NaN            NaN          NaN          NaN   \n",
       "min          NaN            NaN          NaN          NaN   \n",
       "25%          NaN            NaN          NaN          NaN   \n",
       "50%          NaN            NaN          NaN          NaN   \n",
       "75%          NaN            NaN          NaN          NaN   \n",
       "max          NaN            NaN          NaN          NaN   \n",
       "\n",
       "       promoted_display_name  promoted_url  third_party_tracking  \\\n",
       "count                    0.0           0.0                   0.0   \n",
       "mean                     NaN           NaN                   NaN   \n",
       "std                      NaN           NaN                   NaN   \n",
       "min                      NaN           NaN                   NaN   \n",
       "25%                      NaN           NaN                   NaN   \n",
       "50%                      NaN           NaN                   NaN   \n",
       "75%                      NaN           NaN                   NaN   \n",
       "max                      NaN           NaN                   NaN   \n",
       "\n",
       "       third_party_tracking_2  total_awards_received  \n",
       "count                     0.0           19944.000000  \n",
       "mean                      NaN               0.004061  \n",
       "std                       NaN               0.090868  \n",
       "min                       NaN               0.000000  \n",
       "25%                       NaN               0.000000  \n",
       "50%                       NaN               0.000000  \n",
       "75%                       NaN               0.000000  \n",
       "max                       NaN               7.000000  "
      ]
     },
     "execution_count": 8,
     "metadata": {},
     "output_type": "execute_result"
    }
   ],
   "source": [
    "df1.describe()"
   ]
  },
  {
   "cell_type": "markdown",
   "metadata": {},
   "source": [
    "### Selecting the Column\n",
    "\n",
    "In the next step, we define which columns to use when training the model. Since the features in the dataset is big so we need to select some feature with which we will work."
   ]
  },
  {
   "cell_type": "code",
   "execution_count": 9,
   "metadata": {},
   "outputs": [],
   "source": [
    "df1 = df1[['title', 'archived', 'author', 'author_flair_text', 'created_utc', 'subreddit_id', 'score', 'retrieved_on', 'gilded', 'id', 'subreddit', 'distinguished', 'url', 'num_comments']]\n",
    "df2 = df2[['title', 'archived', 'author', 'author_flair_text', 'created_utc', 'subreddit_id', 'score', 'retrieved_on', 'gilded', 'id', 'subreddit', 'distinguished', 'url', 'num_comments']]\n",
    "df3 = df3[['title', 'archived', 'author', 'author_flair_text', 'created_utc', 'subreddit_id', 'score', 'retrieved_on', 'gilded', 'id', 'subreddit', 'distinguished', 'url', 'num_comments']]"
   ]
  },
  {
   "cell_type": "markdown",
   "metadata": {},
   "source": [
    "### Concatenate DataFrames into Combined DataFrame\n",
    "\n",
    "Now we will concatinate all the dataframe into one for data preprossessing."
   ]
  },
  {
   "cell_type": "code",
   "execution_count": 10,
   "metadata": {},
   "outputs": [],
   "source": [
    "frames = [df1, df2, df3]\n",
    "data = pd.concat(frames, ignore_index = True)"
   ]
  },
  {
   "cell_type": "code",
   "execution_count": 11,
   "metadata": {},
   "outputs": [
    {
     "name": "stdout",
     "output_type": "stream",
     "text": [
      "<class 'pandas.core.frame.DataFrame'>\n",
      "RangeIndex: 80001 entries, 0 to 80000\n",
      "Data columns (total 14 columns):\n",
      "title                79999 non-null object\n",
      "archived             79511 non-null object\n",
      "author               80001 non-null object\n",
      "author_flair_text    9161 non-null object\n",
      "created_utc          80000 non-null object\n",
      "subreddit_id         80000 non-null object\n",
      "score                80000 non-null object\n",
      "retrieved_on         80000 non-null object\n",
      "gilded               80000 non-null object\n",
      "id                   79999 non-null object\n",
      "subreddit            80000 non-null object\n",
      "distinguished        890 non-null object\n",
      "url                  79999 non-null object\n",
      "num_comments         80000 non-null float64\n",
      "dtypes: float64(1), object(13)\n",
      "memory usage: 8.5+ MB\n"
     ]
    }
   ],
   "source": [
    "data.info()"
   ]
  },
  {
   "cell_type": "code",
   "execution_count": 12,
   "metadata": {},
   "outputs": [
    {
     "data": {
      "text/html": [
       "<div>\n",
       "<style scoped>\n",
       "    .dataframe tbody tr th:only-of-type {\n",
       "        vertical-align: middle;\n",
       "    }\n",
       "\n",
       "    .dataframe tbody tr th {\n",
       "        vertical-align: top;\n",
       "    }\n",
       "\n",
       "    .dataframe thead th {\n",
       "        text-align: right;\n",
       "    }\n",
       "</style>\n",
       "<table border=\"1\" class=\"dataframe\">\n",
       "  <thead>\n",
       "    <tr style=\"text-align: right;\">\n",
       "      <th></th>\n",
       "      <th>title</th>\n",
       "      <th>archived</th>\n",
       "      <th>author</th>\n",
       "      <th>author_flair_text</th>\n",
       "      <th>created_utc</th>\n",
       "      <th>subreddit_id</th>\n",
       "      <th>score</th>\n",
       "      <th>retrieved_on</th>\n",
       "      <th>gilded</th>\n",
       "      <th>id</th>\n",
       "      <th>subreddit</th>\n",
       "      <th>distinguished</th>\n",
       "      <th>url</th>\n",
       "      <th>num_comments</th>\n",
       "    </tr>\n",
       "  </thead>\n",
       "  <tbody>\n",
       "    <tr>\n",
       "      <th>0</th>\n",
       "      <td>The January 2019 Superthread</td>\n",
       "      <td>False</td>\n",
       "      <td>Racer_77</td>\n",
       "      <td>The Wiki Mod™ :pixel2xlblack:</td>\n",
       "      <td>1546360220</td>\n",
       "      <td>t5_3aobb</td>\n",
       "      <td>38</td>\n",
       "      <td>1548973150</td>\n",
       "      <td>0</td>\n",
       "      <td>aa66wl</td>\n",
       "      <td>GooglePixel</td>\n",
       "      <td>moderator</td>\n",
       "      <td>https://www.reddit.com/r/GooglePixel/comments/...</td>\n",
       "      <td>14.0</td>\n",
       "    </tr>\n",
       "    <tr>\n",
       "      <th>1</th>\n",
       "      <td>Have a perfectly balanced happy new year from ...</td>\n",
       "      <td>False</td>\n",
       "      <td>Dark_pheonix1183</td>\n",
       "      <td>Spider-Man</td>\n",
       "      <td>1546300881</td>\n",
       "      <td>t5_2uii8</td>\n",
       "      <td>2</td>\n",
       "      <td>1552566683</td>\n",
       "      <td>0</td>\n",
       "      <td>abct96</td>\n",
       "      <td>marvelstudios</td>\n",
       "      <td>NaN</td>\n",
       "      <td>https://v.redd.it/lvyg8smibp721</td>\n",
       "      <td>2.0</td>\n",
       "    </tr>\n",
       "    <tr>\n",
       "      <th>2</th>\n",
       "      <td>You are not able to build on top of this gas s...</td>\n",
       "      <td>False</td>\n",
       "      <td>[deleted]</td>\n",
       "      <td>NaN</td>\n",
       "      <td>1546300890</td>\n",
       "      <td>t5_3oeyf</td>\n",
       "      <td>1</td>\n",
       "      <td>1552566695</td>\n",
       "      <td>0</td>\n",
       "      <td>abcuax</td>\n",
       "      <td>FortNiteBR</td>\n",
       "      <td>NaN</td>\n",
       "      <td>https://v.redd.it/7df5xwixbp721</td>\n",
       "      <td>0.0</td>\n",
       "    </tr>\n",
       "    <tr>\n",
       "      <th>3</th>\n",
       "      <td>Showerthought: F-14 Tomcats used by the Irania...</td>\n",
       "      <td>False</td>\n",
       "      <td>ChineseToTheBone</td>\n",
       "      <td>NaN</td>\n",
       "      <td>1546300800</td>\n",
       "      <td>t5_2tifv</td>\n",
       "      <td>80</td>\n",
       "      <td>1552566697</td>\n",
       "      <td>0</td>\n",
       "      <td>abcufh</td>\n",
       "      <td>hoggit</td>\n",
       "      <td>NaN</td>\n",
       "      <td>https://www.reddit.com/r/hoggit/comments/abcuf...</td>\n",
       "      <td>27.0</td>\n",
       "    </tr>\n",
       "    <tr>\n",
       "      <th>4</th>\n",
       "      <td>Game Thread - Tampa Bay Lightning @ Anaheim Ducks</td>\n",
       "      <td>False</td>\n",
       "      <td>wild-wing</td>\n",
       "      <td>NaN</td>\n",
       "      <td>1546300800</td>\n",
       "      <td>t5_2rqhz</td>\n",
       "      <td>6</td>\n",
       "      <td>1552566697</td>\n",
       "      <td>0</td>\n",
       "      <td>abcufj</td>\n",
       "      <td>AnaheimDucks</td>\n",
       "      <td>NaN</td>\n",
       "      <td>https://www.reddit.com/r/AnaheimDucks/comments...</td>\n",
       "      <td>109.0</td>\n",
       "    </tr>\n",
       "  </tbody>\n",
       "</table>\n",
       "</div>"
      ],
      "text/plain": [
       "                                               title archived  \\\n",
       "0                       The January 2019 Superthread    False   \n",
       "1  Have a perfectly balanced happy new year from ...    False   \n",
       "2  You are not able to build on top of this gas s...    False   \n",
       "3  Showerthought: F-14 Tomcats used by the Irania...    False   \n",
       "4  Game Thread - Tampa Bay Lightning @ Anaheim Ducks    False   \n",
       "\n",
       "             author              author_flair_text created_utc subreddit_id  \\\n",
       "0          Racer_77  The Wiki Mod™ :pixel2xlblack:  1546360220     t5_3aobb   \n",
       "1  Dark_pheonix1183                     Spider-Man  1546300881     t5_2uii8   \n",
       "2         [deleted]                            NaN  1546300890     t5_3oeyf   \n",
       "3  ChineseToTheBone                            NaN  1546300800     t5_2tifv   \n",
       "4         wild-wing                            NaN  1546300800     t5_2rqhz   \n",
       "\n",
       "  score retrieved_on gilded      id      subreddit distinguished  \\\n",
       "0    38   1548973150      0  aa66wl    GooglePixel     moderator   \n",
       "1     2   1552566683      0  abct96  marvelstudios           NaN   \n",
       "2     1   1552566695      0  abcuax     FortNiteBR           NaN   \n",
       "3    80   1552566697      0  abcufh         hoggit           NaN   \n",
       "4     6   1552566697      0  abcufj   AnaheimDucks           NaN   \n",
       "\n",
       "                                                 url  num_comments  \n",
       "0  https://www.reddit.com/r/GooglePixel/comments/...          14.0  \n",
       "1                    https://v.redd.it/lvyg8smibp721           2.0  \n",
       "2                    https://v.redd.it/7df5xwixbp721           0.0  \n",
       "3  https://www.reddit.com/r/hoggit/comments/abcuf...          27.0  \n",
       "4  https://www.reddit.com/r/AnaheimDucks/comments...         109.0  "
      ]
     },
     "execution_count": 12,
     "metadata": {},
     "output_type": "execute_result"
    }
   ],
   "source": [
    "data.head()"
   ]
  },
  {
   "cell_type": "code",
   "execution_count": 13,
   "metadata": {},
   "outputs": [
    {
     "data": {
      "text/plain": [
       "(79999, 14)"
      ]
     },
     "execution_count": 13,
     "metadata": {},
     "output_type": "execute_result"
    }
   ],
   "source": [
    "nan_idx = data.loc[data.title.isnull()].index\n",
    "data.drop(data.index[[nan_idx]], inplace=True)\n",
    "data.shape"
   ]
  },
  {
   "cell_type": "code",
   "execution_count": 14,
   "metadata": {},
   "outputs": [],
   "source": [
    "data['score'] = data['score'].astype('category')\n",
    "cat_columns = data.select_dtypes(['category']).columns\n",
    "data[cat_columns] = data[cat_columns].apply(lambda x: x.cat.codes)"
   ]
  },
  {
   "cell_type": "code",
   "execution_count": 15,
   "metadata": {},
   "outputs": [
    {
     "name": "stdout",
     "output_type": "stream",
     "text": [
      "<class 'pandas.core.frame.DataFrame'>\n",
      "Int64Index: 79999 entries, 0 to 80000\n",
      "Data columns (total 14 columns):\n",
      "title                79999 non-null object\n",
      "archived             79509 non-null object\n",
      "author               79999 non-null object\n",
      "author_flair_text    9160 non-null object\n",
      "created_utc          79999 non-null object\n",
      "subreddit_id         79999 non-null object\n",
      "score                79999 non-null int16\n",
      "retrieved_on         79999 non-null object\n",
      "gilded               79999 non-null object\n",
      "id                   79999 non-null object\n",
      "subreddit            79999 non-null object\n",
      "distinguished        889 non-null object\n",
      "url                  79999 non-null object\n",
      "num_comments         79999 non-null float64\n",
      "dtypes: float64(1), int16(1), object(12)\n",
      "memory usage: 8.7+ MB\n",
      "Min score in tha table : 0\n",
      "Max score in tha table : 1835\n"
     ]
    }
   ],
   "source": [
    "data.info()\n",
    "print(\"Min score in tha table : \" + str(data['score'].min()))\n",
    "print(\"Max score in tha table : \" + str(data['score'].max()))"
   ]
  },
  {
   "cell_type": "code",
   "execution_count": 16,
   "metadata": {},
   "outputs": [
    {
     "data": {
      "text/plain": [
       "count    79999.000000\n",
       "mean       182.993837\n",
       "std        464.383792\n",
       "min          0.000000\n",
       "25%          1.000000\n",
       "50%          3.000000\n",
       "75%         25.000000\n",
       "max       1835.000000\n",
       "Name: score, dtype: float64"
      ]
     },
     "execution_count": 16,
     "metadata": {},
     "output_type": "execute_result"
    }
   ],
   "source": [
    "data.score.describe()"
   ]
  },
  {
   "cell_type": "code",
   "execution_count": 17,
   "metadata": {},
   "outputs": [
    {
     "data": {
      "image/png": "[encoded data removed]",
      "text/plain": [
       "<Figure size 720x504 with 1 Axes>"
      ]
     },
     "metadata": {},
     "output_type": "display_data"
    }
   ],
   "source": [
    "sns.set_style('whitegrid')\n",
    "fig, ax = plt.subplots(figsize=(10, 7))\n",
    "data['score'].hist(ax=ax, bins=100, edgecolor='black')\n",
    "ax.set_yscale('log', nonposy='clip')\n",
    "plt.tick_params(axis='both', which='major', labelsize=16)\n",
    "plt.xlim([0,8000])\n",
    "_ = ax.set_xlabel('score', fontsize=16)\n",
    "_ = ax.set_ylabel('Occurrence', fontsize=16)"
   ]
  },
  {
   "cell_type": "markdown",
   "metadata": {},
   "source": [
    "Our dataset contains over 80,000 comments. When looking at the distribution of the scores it appears we may have some issues as it appears we don't have a normal distribution. Below we'll plot some charts of the distribution and various normalization techniques."
   ]
  },
  {
   "cell_type": "code",
   "execution_count": 18,
   "metadata": {},
   "outputs": [
    {
     "data": {
      "image/png": "[encoded data removed]",
      "text/plain": [
       "<Figure size 1080x360 with 1 Axes>"
      ]
     },
     "metadata": {},
     "output_type": "display_data"
    }
   ],
   "source": [
    "plt.figure(figsize=(15, 5))\n",
    "sns.distplot(data.score);"
   ]
  },
  {
   "cell_type": "code",
   "execution_count": 19,
   "metadata": {},
   "outputs": [
    {
     "data": {
      "image/png": "[encoded data removed]",
      "text/plain": [
       "<Figure size 1080x360 with 1 Axes>"
      ]
     },
     "metadata": {},
     "output_type": "display_data"
    }
   ],
   "source": [
    "scaler = StandardScaler()\n",
    "scores = scaler.fit_transform(data.score.values.reshape(-1,1))\n",
    "\n",
    "plt.figure(figsize=(15, 5))\n",
    "sns.distplot(scores);"
   ]
  },
  {
   "cell_type": "code",
   "execution_count": 20,
   "metadata": {},
   "outputs": [
    {
     "data": {
      "image/png": "[encoded data removed]",
      "text/plain": [
       "<Figure size 1080x360 with 1 Axes>"
      ]
     },
     "metadata": {},
     "output_type": "display_data"
    }
   ],
   "source": [
    "from sklearn.preprocessing import power_transform\n",
    "scores = power_transform(data.score.values.reshape(-1,1), method='yeo-johnson')\n",
    "\n",
    "plt.figure(figsize=(15, 5))\n",
    "sns.distplot(scores);"
   ]
  },
  {
   "cell_type": "code",
   "execution_count": 21,
   "metadata": {},
   "outputs": [
    {
     "data": {
      "image/png": "[encoded data removed]",
      "text/plain": [
       "<Figure size 1080x360 with 1 Axes>"
      ]
     },
     "metadata": {},
     "output_type": "display_data"
    }
   ],
   "source": [
    "from sklearn.preprocessing import quantile_transform\n",
    "scores = quantile_transform(data.score.values.reshape(-1,1), n_quantiles=99, random_state=0)\n",
    "plt.figure(figsize=(15, 5))\n",
    "sns.distplot(scores);"
   ]
  },
  {
   "cell_type": "code",
   "execution_count": 22,
   "metadata": {},
   "outputs": [
    {
     "data": {
      "image/png": "[encoded data removed]",
      "text/plain": [
       "<Figure size 1080x360 with 1 Axes>"
      ]
     },
     "metadata": {},
     "output_type": "display_data"
    }
   ],
   "source": [
    "from sklearn.preprocessing import robust_scale\n",
    "scores = robust_scale(data.score.values.reshape(-1,1))\n",
    "\n",
    "plt.figure(figsize=(15, 5))\n",
    "sns.distplot(scores);"
   ]
  },
  {
   "cell_type": "code",
   "execution_count": 23,
   "metadata": {},
   "outputs": [
    {
     "data": {
      "text/plain": [
       "0.04       0.0\n",
       "0.08       1.0\n",
       "0.12       1.0\n",
       "0.16       1.0\n",
       "0.20       1.0\n",
       "0.24       1.0\n",
       "0.28       1.0\n",
       "0.32       1.0\n",
       "0.36       1.0\n",
       "0.40       1.0\n",
       "0.44       2.0\n",
       "0.48       2.0\n",
       "0.52       3.0\n",
       "0.56       4.0\n",
       "0.60       6.0\n",
       "0.64       8.0\n",
       "0.68      12.0\n",
       "0.72      18.0\n",
       "0.76      28.0\n",
       "0.80      47.0\n",
       "0.84      95.0\n",
       "0.88     396.0\n",
       "0.92    1395.0\n",
       "0.96    1524.0\n",
       "Name: score, dtype: float64"
      ]
     },
     "execution_count": 23,
     "metadata": {},
     "output_type": "execute_result"
    }
   ],
   "source": [
    "data.score.quantile(np.linspace(.04, 1, 24, 0))"
   ]
  },
  {
   "cell_type": "markdown",
   "metadata": {},
   "source": [
    "After exploring the distribution it appears that we may have some issues if we try to predict the score using regression. A better option would be to bin the data into categorical groups and use a classification model to predict groups of data.\n",
    "\n",
    "We utilize the pandas cut method to group our data into 5 groups ('Downvoted', 'No Votes', '2-10 Votes', '11-50 Votes', '50+ Votes'). You can access a numerical representation of the category by callin the .cat.codes method."
   ]
  },
  {
   "cell_type": "markdown",
   "metadata": {},
   "source": [
    "### Catagorical Variable - Popular & Non Popular\n",
    "\n",
    "Since there are serval values in the score so we cannot take all during modelling. So it is better to select group of score and assign those into some catagorial variable."
   ]
  },
  {
   "cell_type": "code",
   "execution_count": 24,
   "metadata": {},
   "outputs": [
    {
     "data": {
      "text/plain": [
       "No-Votes       28005\n",
       "2-10 Votes     19713\n",
       "Popular        15598\n",
       "11-50 Votes    11062\n",
       "Non-Popular     5621\n",
       "Name: score, dtype: int64"
      ]
     },
     "execution_count": 24,
     "metadata": {},
     "output_type": "execute_result"
    }
   ],
   "source": [
    "pd.cut(\n",
    "    data.score, [-10000, 0, 1, 10, 50, 10000],\n",
    "    labels=['Non-Popular', 'No-Votes', '2-10 Votes', '11-50 Votes', 'Popular']).value_counts()"
   ]
  },
  {
   "cell_type": "code",
   "execution_count": 25,
   "metadata": {},
   "outputs": [],
   "source": [
    "data['score_category'] = pd.cut(\n",
    "    data.score, [-100000, 0, 1, 10, 50, 100000],\n",
    "    labels=['Non-Popular', 'No-Votes', '2-10 Votes', '11-50 Votes', 'Popular'])"
   ]
  },
  {
   "cell_type": "code",
   "execution_count": 26,
   "metadata": {},
   "outputs": [
    {
     "data": {
      "text/plain": [
       "Index(['Non-Popular', 'No-Votes', '2-10 Votes', '11-50 Votes', 'Popular'], dtype='object')"
      ]
     },
     "execution_count": 26,
     "metadata": {},
     "output_type": "execute_result"
    }
   ],
   "source": [
    "data.score_category.cat.categories"
   ]
  },
  {
   "cell_type": "code",
   "execution_count": 27,
   "metadata": {},
   "outputs": [
    {
     "data": {
      "text/html": [
       "<div>\n",
       "<style scoped>\n",
       "    .dataframe tbody tr th:only-of-type {\n",
       "        vertical-align: middle;\n",
       "    }\n",
       "\n",
       "    .dataframe tbody tr th {\n",
       "        vertical-align: top;\n",
       "    }\n",
       "\n",
       "    .dataframe thead th {\n",
       "        text-align: right;\n",
       "    }\n",
       "</style>\n",
       "<table border=\"1\" class=\"dataframe\">\n",
       "  <thead>\n",
       "    <tr style=\"text-align: right;\">\n",
       "      <th></th>\n",
       "      <th>score_category</th>\n",
       "      <th>0</th>\n",
       "    </tr>\n",
       "  </thead>\n",
       "  <tbody>\n",
       "    <tr>\n",
       "      <th>79991</th>\n",
       "      <td>No-Votes</td>\n",
       "      <td>1</td>\n",
       "    </tr>\n",
       "    <tr>\n",
       "      <th>79992</th>\n",
       "      <td>2-10 Votes</td>\n",
       "      <td>2</td>\n",
       "    </tr>\n",
       "    <tr>\n",
       "      <th>79993</th>\n",
       "      <td>2-10 Votes</td>\n",
       "      <td>2</td>\n",
       "    </tr>\n",
       "    <tr>\n",
       "      <th>79994</th>\n",
       "      <td>11-50 Votes</td>\n",
       "      <td>3</td>\n",
       "    </tr>\n",
       "    <tr>\n",
       "      <th>79995</th>\n",
       "      <td>2-10 Votes</td>\n",
       "      <td>2</td>\n",
       "    </tr>\n",
       "    <tr>\n",
       "      <th>79996</th>\n",
       "      <td>Non-Popular</td>\n",
       "      <td>0</td>\n",
       "    </tr>\n",
       "    <tr>\n",
       "      <th>79997</th>\n",
       "      <td>Popular</td>\n",
       "      <td>4</td>\n",
       "    </tr>\n",
       "    <tr>\n",
       "      <th>79998</th>\n",
       "      <td>11-50 Votes</td>\n",
       "      <td>3</td>\n",
       "    </tr>\n",
       "    <tr>\n",
       "      <th>79999</th>\n",
       "      <td>11-50 Votes</td>\n",
       "      <td>3</td>\n",
       "    </tr>\n",
       "    <tr>\n",
       "      <th>80000</th>\n",
       "      <td>Popular</td>\n",
       "      <td>4</td>\n",
       "    </tr>\n",
       "  </tbody>\n",
       "</table>\n",
       "</div>"
      ],
      "text/plain": [
       "      score_category  0\n",
       "79991       No-Votes  1\n",
       "79992     2-10 Votes  2\n",
       "79993     2-10 Votes  2\n",
       "79994    11-50 Votes  3\n",
       "79995     2-10 Votes  2\n",
       "79996    Non-Popular  0\n",
       "79997        Popular  4\n",
       "79998    11-50 Votes  3\n",
       "79999    11-50 Votes  3\n",
       "80000        Popular  4"
      ]
     },
     "execution_count": 27,
     "metadata": {},
     "output_type": "execute_result"
    }
   ],
   "source": [
    "pd.concat([data.score_category, data.score_category.cat.codes], axis=1).tail(10)"
   ]
  },
  {
   "cell_type": "code",
   "execution_count": 28,
   "metadata": {},
   "outputs": [],
   "source": [
    "data[\"Numerical_Score\"] = pd.concat([data.score_category.cat.codes])"
   ]
  },
  {
   "cell_type": "code",
   "execution_count": 29,
   "metadata": {},
   "outputs": [
    {
     "data": {
      "text/html": [
       "<div>\n",
       "<style scoped>\n",
       "    .dataframe tbody tr th:only-of-type {\n",
       "        vertical-align: middle;\n",
       "    }\n",
       "\n",
       "    .dataframe tbody tr th {\n",
       "        vertical-align: top;\n",
       "    }\n",
       "\n",
       "    .dataframe thead th {\n",
       "        text-align: right;\n",
       "    }\n",
       "</style>\n",
       "<table border=\"1\" class=\"dataframe\">\n",
       "  <thead>\n",
       "    <tr style=\"text-align: right;\">\n",
       "      <th></th>\n",
       "      <th>title</th>\n",
       "      <th>archived</th>\n",
       "      <th>author</th>\n",
       "      <th>author_flair_text</th>\n",
       "      <th>created_utc</th>\n",
       "      <th>subreddit_id</th>\n",
       "      <th>score</th>\n",
       "      <th>retrieved_on</th>\n",
       "      <th>gilded</th>\n",
       "      <th>id</th>\n",
       "      <th>subreddit</th>\n",
       "      <th>distinguished</th>\n",
       "      <th>url</th>\n",
       "      <th>num_comments</th>\n",
       "      <th>score_category</th>\n",
       "      <th>Numerical_Score</th>\n",
       "    </tr>\n",
       "  </thead>\n",
       "  <tbody>\n",
       "    <tr>\n",
       "      <th>0</th>\n",
       "      <td>The January 2019 Superthread</td>\n",
       "      <td>False</td>\n",
       "      <td>Racer_77</td>\n",
       "      <td>The Wiki Mod™ :pixel2xlblack:</td>\n",
       "      <td>1546360220</td>\n",
       "      <td>t5_3aobb</td>\n",
       "      <td>1656</td>\n",
       "      <td>1548973150</td>\n",
       "      <td>0</td>\n",
       "      <td>aa66wl</td>\n",
       "      <td>GooglePixel</td>\n",
       "      <td>moderator</td>\n",
       "      <td>https://www.reddit.com/r/GooglePixel/comments/...</td>\n",
       "      <td>14.0</td>\n",
       "      <td>Popular</td>\n",
       "      <td>4</td>\n",
       "    </tr>\n",
       "    <tr>\n",
       "      <th>1</th>\n",
       "      <td>Have a perfectly balanced happy new year from ...</td>\n",
       "      <td>False</td>\n",
       "      <td>Dark_pheonix1183</td>\n",
       "      <td>Spider-Man</td>\n",
       "      <td>1546300881</td>\n",
       "      <td>t5_2uii8</td>\n",
       "      <td>1524</td>\n",
       "      <td>1552566683</td>\n",
       "      <td>0</td>\n",
       "      <td>abct96</td>\n",
       "      <td>marvelstudios</td>\n",
       "      <td>NaN</td>\n",
       "      <td>https://v.redd.it/lvyg8smibp721</td>\n",
       "      <td>2.0</td>\n",
       "      <td>Popular</td>\n",
       "      <td>4</td>\n",
       "    </tr>\n",
       "    <tr>\n",
       "      <th>2</th>\n",
       "      <td>You are not able to build on top of this gas s...</td>\n",
       "      <td>False</td>\n",
       "      <td>[deleted]</td>\n",
       "      <td>NaN</td>\n",
       "      <td>1546300890</td>\n",
       "      <td>t5_3oeyf</td>\n",
       "      <td>1395</td>\n",
       "      <td>1552566695</td>\n",
       "      <td>0</td>\n",
       "      <td>abcuax</td>\n",
       "      <td>FortNiteBR</td>\n",
       "      <td>NaN</td>\n",
       "      <td>https://v.redd.it/7df5xwixbp721</td>\n",
       "      <td>0.0</td>\n",
       "      <td>Popular</td>\n",
       "      <td>4</td>\n",
       "    </tr>\n",
       "    <tr>\n",
       "      <th>3</th>\n",
       "      <td>Showerthought: F-14 Tomcats used by the Irania...</td>\n",
       "      <td>False</td>\n",
       "      <td>ChineseToTheBone</td>\n",
       "      <td>NaN</td>\n",
       "      <td>1546300800</td>\n",
       "      <td>t5_2tifv</td>\n",
       "      <td>1790</td>\n",
       "      <td>1552566697</td>\n",
       "      <td>0</td>\n",
       "      <td>abcufh</td>\n",
       "      <td>hoggit</td>\n",
       "      <td>NaN</td>\n",
       "      <td>https://www.reddit.com/r/hoggit/comments/abcuf...</td>\n",
       "      <td>27.0</td>\n",
       "      <td>Popular</td>\n",
       "      <td>4</td>\n",
       "    </tr>\n",
       "    <tr>\n",
       "      <th>4</th>\n",
       "      <td>Game Thread - Tampa Bay Lightning @ Anaheim Ducks</td>\n",
       "      <td>False</td>\n",
       "      <td>wild-wing</td>\n",
       "      <td>NaN</td>\n",
       "      <td>1546300800</td>\n",
       "      <td>t5_2rqhz</td>\n",
       "      <td>1741</td>\n",
       "      <td>1552566697</td>\n",
       "      <td>0</td>\n",
       "      <td>abcufj</td>\n",
       "      <td>AnaheimDucks</td>\n",
       "      <td>NaN</td>\n",
       "      <td>https://www.reddit.com/r/AnaheimDucks/comments...</td>\n",
       "      <td>109.0</td>\n",
       "      <td>Popular</td>\n",
       "      <td>4</td>\n",
       "    </tr>\n",
       "  </tbody>\n",
       "</table>\n",
       "</div>"
      ],
      "text/plain": [
       "                                               title archived  \\\n",
       "0                       The January 2019 Superthread    False   \n",
       "1  Have a perfectly balanced happy new year from ...    False   \n",
       "2  You are not able to build on top of this gas s...    False   \n",
       "3  Showerthought: F-14 Tomcats used by the Irania...    False   \n",
       "4  Game Thread - Tampa Bay Lightning @ Anaheim Ducks    False   \n",
       "\n",
       "             author              author_flair_text created_utc subreddit_id  \\\n",
       "0          Racer_77  The Wiki Mod™ :pixel2xlblack:  1546360220     t5_3aobb   \n",
       "1  Dark_pheonix1183                     Spider-Man  1546300881     t5_2uii8   \n",
       "2         [deleted]                            NaN  1546300890     t5_3oeyf   \n",
       "3  ChineseToTheBone                            NaN  1546300800     t5_2tifv   \n",
       "4         wild-wing                            NaN  1546300800     t5_2rqhz   \n",
       "\n",
       "   score retrieved_on gilded      id      subreddit distinguished  \\\n",
       "0   1656   1548973150      0  aa66wl    GooglePixel     moderator   \n",
       "1   1524   1552566683      0  abct96  marvelstudios           NaN   \n",
       "2   1395   1552566695      0  abcuax     FortNiteBR           NaN   \n",
       "3   1790   1552566697      0  abcufh         hoggit           NaN   \n",
       "4   1741   1552566697      0  abcufj   AnaheimDucks           NaN   \n",
       "\n",
       "                                                 url  num_comments  \\\n",
       "0  https://www.reddit.com/r/GooglePixel/comments/...          14.0   \n",
       "1                    https://v.redd.it/lvyg8smibp721           2.0   \n",
       "2                    https://v.redd.it/7df5xwixbp721           0.0   \n",
       "3  https://www.reddit.com/r/hoggit/comments/abcuf...          27.0   \n",
       "4  https://www.reddit.com/r/AnaheimDucks/comments...         109.0   \n",
       "\n",
       "  score_category  Numerical_Score  \n",
       "0        Popular                4  \n",
       "1        Popular                4  \n",
       "2        Popular                4  \n",
       "3        Popular                4  \n",
       "4        Popular                4  "
      ]
     },
     "execution_count": 29,
     "metadata": {},
     "output_type": "execute_result"
    }
   ],
   "source": [
    "data.head()"
   ]
  },
  {
   "cell_type": "code",
   "execution_count": 30,
   "metadata": {},
   "outputs": [
    {
     "name": "stdout",
     "output_type": "stream",
     "text": [
      "<class 'pandas.core.frame.DataFrame'>\n",
      "Int64Index: 79999 entries, 0 to 80000\n",
      "Data columns (total 16 columns):\n",
      "title                79999 non-null object\n",
      "archived             79509 non-null object\n",
      "author               79999 non-null object\n",
      "author_flair_text    9160 non-null object\n",
      "created_utc          79999 non-null object\n",
      "subreddit_id         79999 non-null object\n",
      "score                79999 non-null int16\n",
      "retrieved_on         79999 non-null object\n",
      "gilded               79999 non-null object\n",
      "id                   79999 non-null object\n",
      "subreddit            79999 non-null object\n",
      "distinguished        889 non-null object\n",
      "url                  79999 non-null object\n",
      "num_comments         79999 non-null float64\n",
      "score_category       79999 non-null category\n",
      "Numerical_Score      79999 non-null int8\n",
      "dtypes: category(1), float64(1), int16(1), int8(1), object(12)\n",
      "memory usage: 8.9+ MB\n"
     ]
    }
   ],
   "source": [
    "data.info()"
   ]
  },
  {
   "cell_type": "code",
   "execution_count": 31,
   "metadata": {},
   "outputs": [
    {
     "data": {
      "image/png": "[encoded data removed]",
      "text/plain": [
       "<Figure size 432x288 with 1 Axes>"
      ]
     },
     "metadata": {},
     "output_type": "display_data"
    }
   ],
   "source": [
    "box = sns.boxplot(x='Numerical_Score', y='score', data=data)\n",
    "plt.show()"
   ]
  },
  {
   "cell_type": "markdown",
   "metadata": {},
   "source": [
    "### Saving Combined DataFrame\n",
    "\n",
    "Now we are going to save the data for future use"
   ]
  },
  {
   "cell_type": "code",
   "execution_count": 32,
   "metadata": {},
   "outputs": [],
   "source": [
    "data.to_csv(\"combined_data.csv\")"
   ]
  },
  {
   "cell_type": "markdown",
   "metadata": {},
   "source": [
    "### Working on Individual Dataset\n",
    "\n",
    "Now here we will do the same as above for individual dataset and create training, test and validation data\n",
    "\n",
    "\n",
    "### Training Data"
   ]
  },
  {
   "cell_type": "code",
   "execution_count": 33,
   "metadata": {},
   "outputs": [
    {
     "data": {
      "text/html": [
       "<div>\n",
       "<style scoped>\n",
       "    .dataframe tbody tr th:only-of-type {\n",
       "        vertical-align: middle;\n",
       "    }\n",
       "\n",
       "    .dataframe tbody tr th {\n",
       "        vertical-align: top;\n",
       "    }\n",
       "\n",
       "    .dataframe thead th {\n",
       "        text-align: right;\n",
       "    }\n",
       "</style>\n",
       "<table border=\"1\" class=\"dataframe\">\n",
       "  <thead>\n",
       "    <tr style=\"text-align: right;\">\n",
       "      <th></th>\n",
       "      <th>title</th>\n",
       "      <th>archived</th>\n",
       "      <th>author</th>\n",
       "      <th>author_flair_text</th>\n",
       "      <th>created_utc</th>\n",
       "      <th>subreddit_id</th>\n",
       "      <th>score</th>\n",
       "      <th>retrieved_on</th>\n",
       "      <th>gilded</th>\n",
       "      <th>id</th>\n",
       "      <th>subreddit</th>\n",
       "      <th>distinguished</th>\n",
       "      <th>url</th>\n",
       "      <th>num_comments</th>\n",
       "    </tr>\n",
       "  </thead>\n",
       "  <tbody>\n",
       "    <tr>\n",
       "      <th>0</th>\n",
       "      <td>The January 2019 Superthread</td>\n",
       "      <td>False</td>\n",
       "      <td>Racer_77</td>\n",
       "      <td>The Wiki Mod™ :pixel2xlblack:</td>\n",
       "      <td>1546360220</td>\n",
       "      <td>t5_3aobb</td>\n",
       "      <td>38</td>\n",
       "      <td>1548973150</td>\n",
       "      <td>0</td>\n",
       "      <td>aa66wl</td>\n",
       "      <td>GooglePixel</td>\n",
       "      <td>moderator</td>\n",
       "      <td>https://www.reddit.com/r/GooglePixel/comments/...</td>\n",
       "      <td>14.0</td>\n",
       "    </tr>\n",
       "    <tr>\n",
       "      <th>1</th>\n",
       "      <td>Have a perfectly balanced happy new year from ...</td>\n",
       "      <td>False</td>\n",
       "      <td>Dark_pheonix1183</td>\n",
       "      <td>Spider-Man</td>\n",
       "      <td>1546300881</td>\n",
       "      <td>t5_2uii8</td>\n",
       "      <td>2</td>\n",
       "      <td>1552566683</td>\n",
       "      <td>0</td>\n",
       "      <td>abct96</td>\n",
       "      <td>marvelstudios</td>\n",
       "      <td>NaN</td>\n",
       "      <td>https://v.redd.it/lvyg8smibp721</td>\n",
       "      <td>2.0</td>\n",
       "    </tr>\n",
       "    <tr>\n",
       "      <th>2</th>\n",
       "      <td>You are not able to build on top of this gas s...</td>\n",
       "      <td>False</td>\n",
       "      <td>[deleted]</td>\n",
       "      <td>NaN</td>\n",
       "      <td>1546300890</td>\n",
       "      <td>t5_3oeyf</td>\n",
       "      <td>1</td>\n",
       "      <td>1552566695</td>\n",
       "      <td>0</td>\n",
       "      <td>abcuax</td>\n",
       "      <td>FortNiteBR</td>\n",
       "      <td>NaN</td>\n",
       "      <td>https://v.redd.it/7df5xwixbp721</td>\n",
       "      <td>0.0</td>\n",
       "    </tr>\n",
       "    <tr>\n",
       "      <th>3</th>\n",
       "      <td>Showerthought: F-14 Tomcats used by the Irania...</td>\n",
       "      <td>False</td>\n",
       "      <td>ChineseToTheBone</td>\n",
       "      <td>NaN</td>\n",
       "      <td>1546300800</td>\n",
       "      <td>t5_2tifv</td>\n",
       "      <td>80</td>\n",
       "      <td>1552566697</td>\n",
       "      <td>0</td>\n",
       "      <td>abcufh</td>\n",
       "      <td>hoggit</td>\n",
       "      <td>NaN</td>\n",
       "      <td>https://www.reddit.com/r/hoggit/comments/abcuf...</td>\n",
       "      <td>27.0</td>\n",
       "    </tr>\n",
       "    <tr>\n",
       "      <th>4</th>\n",
       "      <td>Game Thread - Tampa Bay Lightning @ Anaheim Ducks</td>\n",
       "      <td>False</td>\n",
       "      <td>wild-wing</td>\n",
       "      <td>NaN</td>\n",
       "      <td>1546300800</td>\n",
       "      <td>t5_2rqhz</td>\n",
       "      <td>6</td>\n",
       "      <td>1552566697</td>\n",
       "      <td>0</td>\n",
       "      <td>abcufj</td>\n",
       "      <td>AnaheimDucks</td>\n",
       "      <td>NaN</td>\n",
       "      <td>https://www.reddit.com/r/AnaheimDucks/comments...</td>\n",
       "      <td>109.0</td>\n",
       "    </tr>\n",
       "  </tbody>\n",
       "</table>\n",
       "</div>"
      ],
      "text/plain": [
       "                                               title archived  \\\n",
       "0                       The January 2019 Superthread    False   \n",
       "1  Have a perfectly balanced happy new year from ...    False   \n",
       "2  You are not able to build on top of this gas s...    False   \n",
       "3  Showerthought: F-14 Tomcats used by the Irania...    False   \n",
       "4  Game Thread - Tampa Bay Lightning @ Anaheim Ducks    False   \n",
       "\n",
       "             author              author_flair_text created_utc subreddit_id  \\\n",
       "0          Racer_77  The Wiki Mod™ :pixel2xlblack:  1546360220     t5_3aobb   \n",
       "1  Dark_pheonix1183                     Spider-Man  1546300881     t5_2uii8   \n",
       "2         [deleted]                            NaN  1546300890     t5_3oeyf   \n",
       "3  ChineseToTheBone                            NaN  1546300800     t5_2tifv   \n",
       "4         wild-wing                            NaN  1546300800     t5_2rqhz   \n",
       "\n",
       "  score retrieved_on gilded      id      subreddit distinguished  \\\n",
       "0    38   1548973150      0  aa66wl    GooglePixel     moderator   \n",
       "1     2   1552566683      0  abct96  marvelstudios           NaN   \n",
       "2     1   1552566695      0  abcuax     FortNiteBR           NaN   \n",
       "3    80   1552566697      0  abcufh         hoggit           NaN   \n",
       "4     6   1552566697      0  abcufj   AnaheimDucks           NaN   \n",
       "\n",
       "                                                 url  num_comments  \n",
       "0  https://www.reddit.com/r/GooglePixel/comments/...          14.0  \n",
       "1                    https://v.redd.it/lvyg8smibp721           2.0  \n",
       "2                    https://v.redd.it/7df5xwixbp721           0.0  \n",
       "3  https://www.reddit.com/r/hoggit/comments/abcuf...          27.0  \n",
       "4  https://www.reddit.com/r/AnaheimDucks/comments...         109.0  "
      ]
     },
     "execution_count": 33,
     "metadata": {},
     "output_type": "execute_result"
    }
   ],
   "source": [
    "df1.head()"
   ]
  },
  {
   "cell_type": "code",
   "execution_count": 34,
   "metadata": {},
   "outputs": [
    {
     "data": {
      "text/plain": [
       "(39999, 14)"
      ]
     },
     "execution_count": 34,
     "metadata": {},
     "output_type": "execute_result"
    }
   ],
   "source": [
    "nan_idx = df1.loc[df1.title.isnull()].index\n",
    "df1.drop(df1.index[[nan_idx]], inplace=True)\n",
    "df1.shape"
   ]
  },
  {
   "cell_type": "code",
   "execution_count": 35,
   "metadata": {},
   "outputs": [],
   "source": [
    "df1['score'] = df1['score'].astype('category')\n",
    "cat_columns = df1.select_dtypes(['category']).columns\n",
    "df1[cat_columns] = df1[cat_columns].apply(lambda x: x.cat.codes)"
   ]
  },
  {
   "cell_type": "code",
   "execution_count": 36,
   "metadata": {},
   "outputs": [
    {
     "name": "stdout",
     "output_type": "stream",
     "text": [
      "<class 'pandas.core.frame.DataFrame'>\n",
      "Int64Index: 39999 entries, 0 to 40000\n",
      "Data columns (total 14 columns):\n",
      "title                39999 non-null object\n",
      "archived             39954 non-null object\n",
      "author               39999 non-null object\n",
      "author_flair_text    5044 non-null object\n",
      "created_utc          39999 non-null object\n",
      "subreddit_id         39999 non-null object\n",
      "score                39999 non-null int16\n",
      "retrieved_on         39999 non-null object\n",
      "gilded               39999 non-null object\n",
      "id                   39999 non-null object\n",
      "subreddit            39999 non-null object\n",
      "distinguished        442 non-null object\n",
      "url                  39999 non-null object\n",
      "num_comments         39999 non-null float64\n",
      "dtypes: float64(1), int16(1), object(12)\n",
      "memory usage: 4.3+ MB\n",
      "Min score in tha table : 0\n",
      "Max score in tha table : 1359\n"
     ]
    }
   ],
   "source": [
    "df1.info()\n",
    "print(\"Min score in tha table : \" + str(df1['score'].min()))\n",
    "print(\"Max score in tha table : \" + str(df1['score'].max()))"
   ]
  },
  {
   "cell_type": "code",
   "execution_count": 37,
   "metadata": {},
   "outputs": [
    {
     "data": {
      "text/plain": [
       "count    39999.000000\n",
       "mean       233.467962\n",
       "std        418.427823\n",
       "min          0.000000\n",
       "25%          1.000000\n",
       "50%          4.000000\n",
       "75%        109.000000\n",
       "max       1359.000000\n",
       "Name: score, dtype: float64"
      ]
     },
     "execution_count": 37,
     "metadata": {},
     "output_type": "execute_result"
    }
   ],
   "source": [
    "df1.score.describe()"
   ]
  },
  {
   "cell_type": "code",
   "execution_count": 38,
   "metadata": {},
   "outputs": [
    {
     "data": {
      "image/png": "[encoded data removed]",
      "text/plain": [
       "<Figure size 720x504 with 1 Axes>"
      ]
     },
     "metadata": {},
     "output_type": "display_data"
    }
   ],
   "source": [
    "sns.set_style('whitegrid')\n",
    "fig, ax = plt.subplots(figsize=(10, 7))\n",
    "df1['score'].hist(ax=ax, bins=100, edgecolor='black')\n",
    "ax.set_yscale('log', nonposy='clip')\n",
    "plt.tick_params(axis='both', which='major', labelsize=16)\n",
    "plt.xlim([0,8000])\n",
    "_ = ax.set_xlabel('score', fontsize=16)\n",
    "_ = ax.set_ylabel('Occurrence', fontsize=16)"
   ]
  },
  {
   "cell_type": "code",
   "execution_count": 39,
   "metadata": {},
   "outputs": [
    {
     "data": {
      "image/png": "[encoded data removed]",
      "text/plain": [
       "<Figure size 1080x360 with 1 Axes>"
      ]
     },
     "metadata": {},
     "output_type": "display_data"
    }
   ],
   "source": [
    "from sklearn.preprocessing import power_transform\n",
    "scores = power_transform(df1.score.values.reshape(-1,1), method='yeo-johnson')\n",
    "plt.figure(figsize=(15, 5))\n",
    "sns.distplot(scores);"
   ]
  },
  {
   "cell_type": "code",
   "execution_count": 40,
   "metadata": {},
   "outputs": [
    {
     "data": {
      "text/plain": [
       "0.04       0.0\n",
       "0.08       1.0\n",
       "0.12       1.0\n",
       "0.16       1.0\n",
       "0.20       1.0\n",
       "0.24       1.0\n",
       "0.28       1.0\n",
       "0.32       1.0\n",
       "0.36       1.0\n",
       "0.40       2.0\n",
       "0.44       2.0\n",
       "0.48       3.0\n",
       "0.52       5.0\n",
       "0.56       7.0\n",
       "0.60      11.0\n",
       "0.64      17.0\n",
       "0.68      29.0\n",
       "0.72      55.0\n",
       "0.76     150.0\n",
       "0.80     918.0\n",
       "0.84     919.0\n",
       "0.88     919.0\n",
       "0.92    1048.0\n",
       "0.96    1191.0\n",
       "Name: score, dtype: float64"
      ]
     },
     "execution_count": 40,
     "metadata": {},
     "output_type": "execute_result"
    }
   ],
   "source": [
    "df1.score.quantile(np.linspace(.04, 1, 24, 0))"
   ]
  },
  {
   "cell_type": "code",
   "execution_count": 41,
   "metadata": {},
   "outputs": [
    {
     "data": {
      "text/plain": [
       "No-Votes       12248\n",
       "Popular        11400\n",
       "2-10 Votes      8908\n",
       "11-50 Votes     4638\n",
       "Non-Popular     2805\n",
       "Name: score, dtype: int64"
      ]
     },
     "execution_count": 41,
     "metadata": {},
     "output_type": "execute_result"
    }
   ],
   "source": [
    "pd.cut(\n",
    "    df1.score, [-10000, 0, 1, 10, 50, 10000],\n",
    "    labels=['Non-Popular', 'No-Votes', '2-10 Votes', '11-50 Votes', 'Popular']).value_counts()"
   ]
  },
  {
   "cell_type": "code",
   "execution_count": 42,
   "metadata": {},
   "outputs": [],
   "source": [
    "df1['score_category'] = pd.cut(\n",
    "    df1.score, [-100000, 0, 1, 10, 50, 100000],\n",
    "    labels=['Non-Popular', 'No-Votes', '2-10 Votes', '11-50 Votes', 'Popular'])"
   ]
  },
  {
   "cell_type": "code",
   "execution_count": 43,
   "metadata": {},
   "outputs": [
    {
     "data": {
      "text/plain": [
       "Index(['Non-Popular', 'No-Votes', '2-10 Votes', '11-50 Votes', 'Popular'], dtype='object')"
      ]
     },
     "execution_count": 43,
     "metadata": {},
     "output_type": "execute_result"
    }
   ],
   "source": [
    "df1.score_category.cat.categories"
   ]
  },
  {
   "cell_type": "code",
   "execution_count": 44,
   "metadata": {},
   "outputs": [
    {
     "data": {
      "text/html": [
       "<div>\n",
       "<style scoped>\n",
       "    .dataframe tbody tr th:only-of-type {\n",
       "        vertical-align: middle;\n",
       "    }\n",
       "\n",
       "    .dataframe tbody tr th {\n",
       "        vertical-align: top;\n",
       "    }\n",
       "\n",
       "    .dataframe thead th {\n",
       "        text-align: right;\n",
       "    }\n",
       "</style>\n",
       "<table border=\"1\" class=\"dataframe\">\n",
       "  <thead>\n",
       "    <tr style=\"text-align: right;\">\n",
       "      <th></th>\n",
       "      <th>score_category</th>\n",
       "      <th>0</th>\n",
       "    </tr>\n",
       "  </thead>\n",
       "  <tbody>\n",
       "    <tr>\n",
       "      <th>39991</th>\n",
       "      <td>11-50 Votes</td>\n",
       "      <td>3</td>\n",
       "    </tr>\n",
       "    <tr>\n",
       "      <th>39992</th>\n",
       "      <td>Non-Popular</td>\n",
       "      <td>0</td>\n",
       "    </tr>\n",
       "    <tr>\n",
       "      <th>39993</th>\n",
       "      <td>11-50 Votes</td>\n",
       "      <td>3</td>\n",
       "    </tr>\n",
       "    <tr>\n",
       "      <th>39994</th>\n",
       "      <td>Non-Popular</td>\n",
       "      <td>0</td>\n",
       "    </tr>\n",
       "    <tr>\n",
       "      <th>39995</th>\n",
       "      <td>2-10 Votes</td>\n",
       "      <td>2</td>\n",
       "    </tr>\n",
       "    <tr>\n",
       "      <th>39996</th>\n",
       "      <td>Non-Popular</td>\n",
       "      <td>0</td>\n",
       "    </tr>\n",
       "    <tr>\n",
       "      <th>39997</th>\n",
       "      <td>No-Votes</td>\n",
       "      <td>1</td>\n",
       "    </tr>\n",
       "    <tr>\n",
       "      <th>39998</th>\n",
       "      <td>11-50 Votes</td>\n",
       "      <td>3</td>\n",
       "    </tr>\n",
       "    <tr>\n",
       "      <th>39999</th>\n",
       "      <td>2-10 Votes</td>\n",
       "      <td>2</td>\n",
       "    </tr>\n",
       "    <tr>\n",
       "      <th>40000</th>\n",
       "      <td>No-Votes</td>\n",
       "      <td>1</td>\n",
       "    </tr>\n",
       "  </tbody>\n",
       "</table>\n",
       "</div>"
      ],
      "text/plain": [
       "      score_category  0\n",
       "39991    11-50 Votes  3\n",
       "39992    Non-Popular  0\n",
       "39993    11-50 Votes  3\n",
       "39994    Non-Popular  0\n",
       "39995     2-10 Votes  2\n",
       "39996    Non-Popular  0\n",
       "39997       No-Votes  1\n",
       "39998    11-50 Votes  3\n",
       "39999     2-10 Votes  2\n",
       "40000       No-Votes  1"
      ]
     },
     "execution_count": 44,
     "metadata": {},
     "output_type": "execute_result"
    }
   ],
   "source": [
    "pd.concat([df1.score_category, df1.score_category.cat.codes], axis=1).tail(10)"
   ]
  },
  {
   "cell_type": "code",
   "execution_count": 45,
   "metadata": {},
   "outputs": [],
   "source": [
    "df1[\"Numerical_Score\"] = pd.concat([df1.score_category.cat.codes])"
   ]
  },
  {
   "cell_type": "code",
   "execution_count": 46,
   "metadata": {},
   "outputs": [
    {
     "data": {
      "text/html": [
       "<div>\n",
       "<style scoped>\n",
       "    .dataframe tbody tr th:only-of-type {\n",
       "        vertical-align: middle;\n",
       "    }\n",
       "\n",
       "    .dataframe tbody tr th {\n",
       "        vertical-align: top;\n",
       "    }\n",
       "\n",
       "    .dataframe thead th {\n",
       "        text-align: right;\n",
       "    }\n",
       "</style>\n",
       "<table border=\"1\" class=\"dataframe\">\n",
       "  <thead>\n",
       "    <tr style=\"text-align: right;\">\n",
       "      <th></th>\n",
       "      <th>title</th>\n",
       "      <th>archived</th>\n",
       "      <th>author</th>\n",
       "      <th>author_flair_text</th>\n",
       "      <th>created_utc</th>\n",
       "      <th>subreddit_id</th>\n",
       "      <th>score</th>\n",
       "      <th>retrieved_on</th>\n",
       "      <th>gilded</th>\n",
       "      <th>id</th>\n",
       "      <th>subreddit</th>\n",
       "      <th>distinguished</th>\n",
       "      <th>url</th>\n",
       "      <th>num_comments</th>\n",
       "      <th>score_category</th>\n",
       "      <th>Numerical_Score</th>\n",
       "    </tr>\n",
       "  </thead>\n",
       "  <tbody>\n",
       "    <tr>\n",
       "      <th>0</th>\n",
       "      <td>The January 2019 Superthread</td>\n",
       "      <td>False</td>\n",
       "      <td>Racer_77</td>\n",
       "      <td>The Wiki Mod™ :pixel2xlblack:</td>\n",
       "      <td>1546360220</td>\n",
       "      <td>t5_3aobb</td>\n",
       "      <td>1180</td>\n",
       "      <td>1548973150</td>\n",
       "      <td>0</td>\n",
       "      <td>aa66wl</td>\n",
       "      <td>GooglePixel</td>\n",
       "      <td>moderator</td>\n",
       "      <td>https://www.reddit.com/r/GooglePixel/comments/...</td>\n",
       "      <td>14.0</td>\n",
       "      <td>Popular</td>\n",
       "      <td>4</td>\n",
       "    </tr>\n",
       "    <tr>\n",
       "      <th>1</th>\n",
       "      <td>Have a perfectly balanced happy new year from ...</td>\n",
       "      <td>False</td>\n",
       "      <td>Dark_pheonix1183</td>\n",
       "      <td>Spider-Man</td>\n",
       "      <td>1546300881</td>\n",
       "      <td>t5_2uii8</td>\n",
       "      <td>1048</td>\n",
       "      <td>1552566683</td>\n",
       "      <td>0</td>\n",
       "      <td>abct96</td>\n",
       "      <td>marvelstudios</td>\n",
       "      <td>NaN</td>\n",
       "      <td>https://v.redd.it/lvyg8smibp721</td>\n",
       "      <td>2.0</td>\n",
       "      <td>Popular</td>\n",
       "      <td>4</td>\n",
       "    </tr>\n",
       "    <tr>\n",
       "      <th>2</th>\n",
       "      <td>You are not able to build on top of this gas s...</td>\n",
       "      <td>False</td>\n",
       "      <td>[deleted]</td>\n",
       "      <td>NaN</td>\n",
       "      <td>1546300890</td>\n",
       "      <td>t5_3oeyf</td>\n",
       "      <td>919</td>\n",
       "      <td>1552566695</td>\n",
       "      <td>0</td>\n",
       "      <td>abcuax</td>\n",
       "      <td>FortNiteBR</td>\n",
       "      <td>NaN</td>\n",
       "      <td>https://v.redd.it/7df5xwixbp721</td>\n",
       "      <td>0.0</td>\n",
       "      <td>Popular</td>\n",
       "      <td>4</td>\n",
       "    </tr>\n",
       "    <tr>\n",
       "      <th>3</th>\n",
       "      <td>Showerthought: F-14 Tomcats used by the Irania...</td>\n",
       "      <td>False</td>\n",
       "      <td>ChineseToTheBone</td>\n",
       "      <td>NaN</td>\n",
       "      <td>1546300800</td>\n",
       "      <td>t5_2tifv</td>\n",
       "      <td>1314</td>\n",
       "      <td>1552566697</td>\n",
       "      <td>0</td>\n",
       "      <td>abcufh</td>\n",
       "      <td>hoggit</td>\n",
       "      <td>NaN</td>\n",
       "      <td>https://www.reddit.com/r/hoggit/comments/abcuf...</td>\n",
       "      <td>27.0</td>\n",
       "      <td>Popular</td>\n",
       "      <td>4</td>\n",
       "    </tr>\n",
       "    <tr>\n",
       "      <th>4</th>\n",
       "      <td>Game Thread - Tampa Bay Lightning @ Anaheim Ducks</td>\n",
       "      <td>False</td>\n",
       "      <td>wild-wing</td>\n",
       "      <td>NaN</td>\n",
       "      <td>1546300800</td>\n",
       "      <td>t5_2rqhz</td>\n",
       "      <td>1265</td>\n",
       "      <td>1552566697</td>\n",
       "      <td>0</td>\n",
       "      <td>abcufj</td>\n",
       "      <td>AnaheimDucks</td>\n",
       "      <td>NaN</td>\n",
       "      <td>https://www.reddit.com/r/AnaheimDucks/comments...</td>\n",
       "      <td>109.0</td>\n",
       "      <td>Popular</td>\n",
       "      <td>4</td>\n",
       "    </tr>\n",
       "  </tbody>\n",
       "</table>\n",
       "</div>"
      ],
      "text/plain": [
       "                                               title archived  \\\n",
       "0                       The January 2019 Superthread    False   \n",
       "1  Have a perfectly balanced happy new year from ...    False   \n",
       "2  You are not able to build on top of this gas s...    False   \n",
       "3  Showerthought: F-14 Tomcats used by the Irania...    False   \n",
       "4  Game Thread - Tampa Bay Lightning @ Anaheim Ducks    False   \n",
       "\n",
       "             author              author_flair_text created_utc subreddit_id  \\\n",
       "0          Racer_77  The Wiki Mod™ :pixel2xlblack:  1546360220     t5_3aobb   \n",
       "1  Dark_pheonix1183                     Spider-Man  1546300881     t5_2uii8   \n",
       "2         [deleted]                            NaN  1546300890     t5_3oeyf   \n",
       "3  ChineseToTheBone                            NaN  1546300800     t5_2tifv   \n",
       "4         wild-wing                            NaN  1546300800     t5_2rqhz   \n",
       "\n",
       "   score retrieved_on gilded      id      subreddit distinguished  \\\n",
       "0   1180   1548973150      0  aa66wl    GooglePixel     moderator   \n",
       "1   1048   1552566683      0  abct96  marvelstudios           NaN   \n",
       "2    919   1552566695      0  abcuax     FortNiteBR           NaN   \n",
       "3   1314   1552566697      0  abcufh         hoggit           NaN   \n",
       "4   1265   1552566697      0  abcufj   AnaheimDucks           NaN   \n",
       "\n",
       "                                                 url  num_comments  \\\n",
       "0  https://www.reddit.com/r/GooglePixel/comments/...          14.0   \n",
       "1                    https://v.redd.it/lvyg8smibp721           2.0   \n",
       "2                    https://v.redd.it/7df5xwixbp721           0.0   \n",
       "3  https://www.reddit.com/r/hoggit/comments/abcuf...          27.0   \n",
       "4  https://www.reddit.com/r/AnaheimDucks/comments...         109.0   \n",
       "\n",
       "  score_category  Numerical_Score  \n",
       "0        Popular                4  \n",
       "1        Popular                4  \n",
       "2        Popular                4  \n",
       "3        Popular                4  \n",
       "4        Popular                4  "
      ]
     },
     "execution_count": 46,
     "metadata": {},
     "output_type": "execute_result"
    }
   ],
   "source": [
    "df1.head()"
   ]
  },
  {
   "cell_type": "code",
   "execution_count": 47,
   "metadata": {},
   "outputs": [
    {
     "name": "stdout",
     "output_type": "stream",
     "text": [
      "<class 'pandas.core.frame.DataFrame'>\n",
      "Int64Index: 39999 entries, 0 to 40000\n",
      "Data columns (total 16 columns):\n",
      "title                39999 non-null object\n",
      "archived             39954 non-null object\n",
      "author               39999 non-null object\n",
      "author_flair_text    5044 non-null object\n",
      "created_utc          39999 non-null object\n",
      "subreddit_id         39999 non-null object\n",
      "score                39999 non-null int16\n",
      "retrieved_on         39999 non-null object\n",
      "gilded               39999 non-null object\n",
      "id                   39999 non-null object\n",
      "subreddit            39999 non-null object\n",
      "distinguished        442 non-null object\n",
      "url                  39999 non-null object\n",
      "num_comments         39999 non-null float64\n",
      "score_category       39999 non-null category\n",
      "Numerical_Score      39999 non-null int8\n",
      "dtypes: category(1), float64(1), int16(1), int8(1), object(12)\n",
      "memory usage: 4.4+ MB\n"
     ]
    }
   ],
   "source": [
    "df1.info()"
   ]
  },
  {
   "cell_type": "code",
   "execution_count": 48,
   "metadata": {},
   "outputs": [],
   "source": [
    "df1.to_csv(\"training_data.csv\")"
   ]
  },
  {
   "cell_type": "markdown",
   "metadata": {},
   "source": [
    "### Testing Data"
   ]
  },
  {
   "cell_type": "code",
   "execution_count": 49,
   "metadata": {},
   "outputs": [
    {
     "data": {
      "text/html": [
       "<div>\n",
       "<style scoped>\n",
       "    .dataframe tbody tr th:only-of-type {\n",
       "        vertical-align: middle;\n",
       "    }\n",
       "\n",
       "    .dataframe tbody tr th {\n",
       "        vertical-align: top;\n",
       "    }\n",
       "\n",
       "    .dataframe thead th {\n",
       "        text-align: right;\n",
       "    }\n",
       "</style>\n",
       "<table border=\"1\" class=\"dataframe\">\n",
       "  <thead>\n",
       "    <tr style=\"text-align: right;\">\n",
       "      <th></th>\n",
       "      <th>title</th>\n",
       "      <th>archived</th>\n",
       "      <th>author</th>\n",
       "      <th>author_flair_text</th>\n",
       "      <th>created_utc</th>\n",
       "      <th>subreddit_id</th>\n",
       "      <th>score</th>\n",
       "      <th>retrieved_on</th>\n",
       "      <th>gilded</th>\n",
       "      <th>id</th>\n",
       "      <th>subreddit</th>\n",
       "      <th>distinguished</th>\n",
       "      <th>url</th>\n",
       "      <th>num_comments</th>\n",
       "    </tr>\n",
       "  </thead>\n",
       "  <tbody>\n",
       "    <tr>\n",
       "      <th>0</th>\n",
       "      <td>Job Description for the Stay-At-Home Mom Job D...</td>\n",
       "      <td>NaN</td>\n",
       "      <td>Donaldfxre</td>\n",
       "      <td>NaN</td>\n",
       "      <td>1556668800</td>\n",
       "      <td>t5_yy0v9</td>\n",
       "      <td>1</td>\n",
       "      <td>1556755178</td>\n",
       "      <td>0</td>\n",
       "      <td>bjalrb</td>\n",
       "      <td>u_Donaldfxre</td>\n",
       "      <td>NaN</td>\n",
       "      <td>https://fastmoney.moneybot.in.net/job-descript...</td>\n",
       "      <td>0</td>\n",
       "    </tr>\n",
       "    <tr>\n",
       "      <th>1</th>\n",
       "      <td>Because I’ve hurt my bf (M24) in the past I (F...</td>\n",
       "      <td>False</td>\n",
       "      <td>throwaway9173649266</td>\n",
       "      <td>NaN</td>\n",
       "      <td>1556668800</td>\n",
       "      <td>t5_2qjvn</td>\n",
       "      <td>1</td>\n",
       "      <td>1560620602</td>\n",
       "      <td>0</td>\n",
       "      <td>bjalrc</td>\n",
       "      <td>relationships</td>\n",
       "      <td>NaN</td>\n",
       "      <td>https://www.reddit.com/r/relationships/comment...</td>\n",
       "      <td>1</td>\n",
       "    </tr>\n",
       "    <tr>\n",
       "      <th>2</th>\n",
       "      <td>Found this Music Note Watch On The Street In A...</td>\n",
       "      <td>False</td>\n",
       "      <td>[deleted]</td>\n",
       "      <td>NaN</td>\n",
       "      <td>1556668800</td>\n",
       "      <td>t5_2ti4h</td>\n",
       "      <td>16</td>\n",
       "      <td>1560620602</td>\n",
       "      <td>0</td>\n",
       "      <td>bjalrd</td>\n",
       "      <td>mildlyinteresting</td>\n",
       "      <td>NaN</td>\n",
       "      <td>https://i.redd.it/xjahiippphv21.png</td>\n",
       "      <td>1</td>\n",
       "    </tr>\n",
       "    <tr>\n",
       "      <th>3</th>\n",
       "      <td>Once I had a nightmare that started looking ov...</td>\n",
       "      <td>False</td>\n",
       "      <td>Jackson-King</td>\n",
       "      <td>🎉 1,000,000 Attendee! 🎉</td>\n",
       "      <td>1556668800</td>\n",
       "      <td>t5_2rjli</td>\n",
       "      <td>6</td>\n",
       "      <td>1560620602</td>\n",
       "      <td>0</td>\n",
       "      <td>bjalre</td>\n",
       "      <td>teenagers</td>\n",
       "      <td>NaN</td>\n",
       "      <td>https://www.reddit.com/r/teenagers/comments/bj...</td>\n",
       "      <td>3</td>\n",
       "    </tr>\n",
       "    <tr>\n",
       "      <th>4</th>\n",
       "      <td>Babe with Big Ass Fucks in Ripped Fishnets and...</td>\n",
       "      <td>False</td>\n",
       "      <td>hot-x</td>\n",
       "      <td>NaN</td>\n",
       "      <td>1556668800</td>\n",
       "      <td>t5_wnujb</td>\n",
       "      <td>1</td>\n",
       "      <td>1560620602</td>\n",
       "      <td>0</td>\n",
       "      <td>bjalrf</td>\n",
       "      <td>make_me_cum</td>\n",
       "      <td>NaN</td>\n",
       "      <td>https://www.pornhub.com/view_video.php?viewkey...</td>\n",
       "      <td>0</td>\n",
       "    </tr>\n",
       "  </tbody>\n",
       "</table>\n",
       "</div>"
      ],
      "text/plain": [
       "                                               title archived  \\\n",
       "0  Job Description for the Stay-At-Home Mom Job D...      NaN   \n",
       "1  Because I’ve hurt my bf (M24) in the past I (F...    False   \n",
       "2  Found this Music Note Watch On The Street In A...    False   \n",
       "3  Once I had a nightmare that started looking ov...    False   \n",
       "4  Babe with Big Ass Fucks in Ripped Fishnets and...    False   \n",
       "\n",
       "                author        author_flair_text  created_utc subreddit_id  \\\n",
       "0           Donaldfxre                      NaN   1556668800     t5_yy0v9   \n",
       "1  throwaway9173649266                      NaN   1556668800     t5_2qjvn   \n",
       "2            [deleted]                      NaN   1556668800     t5_2ti4h   \n",
       "3         Jackson-King  🎉 1,000,000 Attendee! 🎉   1556668800     t5_2rjli   \n",
       "4                hot-x                      NaN   1556668800     t5_wnujb   \n",
       "\n",
       "   score  retrieved_on  gilded      id          subreddit distinguished  \\\n",
       "0      1    1556755178       0  bjalrb       u_Donaldfxre           NaN   \n",
       "1      1    1560620602       0  bjalrc      relationships           NaN   \n",
       "2     16    1560620602       0  bjalrd  mildlyinteresting           NaN   \n",
       "3      6    1560620602       0  bjalre          teenagers           NaN   \n",
       "4      1    1560620602       0  bjalrf        make_me_cum           NaN   \n",
       "\n",
       "                                                 url  num_comments  \n",
       "0  https://fastmoney.moneybot.in.net/job-descript...             0  \n",
       "1  https://www.reddit.com/r/relationships/comment...             1  \n",
       "2                https://i.redd.it/xjahiippphv21.png             1  \n",
       "3  https://www.reddit.com/r/teenagers/comments/bj...             3  \n",
       "4  https://www.pornhub.com/view_video.php?viewkey...             0  "
      ]
     },
     "execution_count": 49,
     "metadata": {},
     "output_type": "execute_result"
    }
   ],
   "source": [
    "df2.head()"
   ]
  },
  {
   "cell_type": "code",
   "execution_count": 50,
   "metadata": {},
   "outputs": [
    {
     "data": {
      "text/plain": [
       "(20000, 14)"
      ]
     },
     "execution_count": 50,
     "metadata": {},
     "output_type": "execute_result"
    }
   ],
   "source": [
    "nan_idx = df2.loc[df2.title.isnull()].index\n",
    "df2.drop(df2.index[[nan_idx]], inplace=True)\n",
    "df2.shape"
   ]
  },
  {
   "cell_type": "code",
   "execution_count": 51,
   "metadata": {},
   "outputs": [],
   "source": [
    "df2['score'] = df2['score'].astype('category')\n",
    "cat_columns = df2.select_dtypes(['category']).columns\n",
    "df2[cat_columns] = df2[cat_columns].apply(lambda x: x.cat.codes)"
   ]
  },
  {
   "cell_type": "code",
   "execution_count": 52,
   "metadata": {},
   "outputs": [
    {
     "name": "stdout",
     "output_type": "stream",
     "text": [
      "<class 'pandas.core.frame.DataFrame'>\n",
      "Int64Index: 20000 entries, 0 to 19999\n",
      "Data columns (total 14 columns):\n",
      "title                20000 non-null object\n",
      "archived             19858 non-null object\n",
      "author               20000 non-null object\n",
      "author_flair_text    2044 non-null object\n",
      "created_utc          20000 non-null int64\n",
      "subreddit_id         20000 non-null object\n",
      "score                20000 non-null int16\n",
      "retrieved_on         20000 non-null int64\n",
      "gilded               20000 non-null int64\n",
      "id                   20000 non-null object\n",
      "subreddit            20000 non-null object\n",
      "distinguished        221 non-null object\n",
      "url                  20000 non-null object\n",
      "num_comments         20000 non-null int64\n",
      "dtypes: int16(1), int64(4), object(9)\n",
      "memory usage: 2.2+ MB\n",
      "Min score in tha table : 0\n",
      "Max score in tha table : 694\n"
     ]
    }
   ],
   "source": [
    "df2.info()\n",
    "print(\"Min score in tha table : \" + str(df2['score'].min()))\n",
    "print(\"Max score in tha table : \" + str(df2['score'].max()))"
   ]
  },
  {
   "cell_type": "code",
   "execution_count": 53,
   "metadata": {},
   "outputs": [
    {
     "data": {
      "text/plain": [
       "count    20000.000000\n",
       "mean        26.604450\n",
       "std         81.816569\n",
       "min          0.000000\n",
       "25%          1.000000\n",
       "50%          2.000000\n",
       "75%         12.000000\n",
       "max        694.000000\n",
       "Name: score, dtype: float64"
      ]
     },
     "execution_count": 53,
     "metadata": {},
     "output_type": "execute_result"
    }
   ],
   "source": [
    "df2.score.describe()"
   ]
  },
  {
   "cell_type": "code",
   "execution_count": 54,
   "metadata": {},
   "outputs": [
    {
     "data": {
      "image/png": "[encoded data removed]",
      "text/plain": [
       "<Figure size 720x504 with 1 Axes>"
      ]
     },
     "metadata": {},
     "output_type": "display_data"
    }
   ],
   "source": [
    "sns.set_style('whitegrid')\n",
    "fig, ax = plt.subplots(figsize=(10, 7))\n",
    "df2['score'].hist(ax=ax, bins=100, edgecolor='black')\n",
    "ax.set_yscale('log', nonposy='clip')\n",
    "plt.tick_params(axis='both', which='major', labelsize=16)\n",
    "plt.xlim([0,8000])\n",
    "_ = ax.set_xlabel('score', fontsize=16)\n",
    "_ = ax.set_ylabel('Occurrence', fontsize=16)"
   ]
  },
  {
   "cell_type": "code",
   "execution_count": 55,
   "metadata": {},
   "outputs": [
    {
     "data": {
      "image/png": "[encoded data removed]",
      "text/plain": [
       "<Figure size 1080x360 with 1 Axes>"
      ]
     },
     "metadata": {},
     "output_type": "display_data"
    }
   ],
   "source": [
    "from sklearn.preprocessing import power_transform\n",
    "scores = power_transform(df2.score.values.reshape(-1,1), method='yeo-johnson')\n",
    "plt.figure(figsize=(15, 5))\n",
    "sns.distplot(scores);"
   ]
  },
  {
   "cell_type": "code",
   "execution_count": 56,
   "metadata": {},
   "outputs": [
    {
     "data": {
      "text/plain": [
       "0.04      0.00\n",
       "0.08      1.00\n",
       "0.12      1.00\n",
       "0.16      1.00\n",
       "0.20      1.00\n",
       "0.24      1.00\n",
       "0.28      1.00\n",
       "0.32      1.00\n",
       "0.36      1.00\n",
       "0.40      1.00\n",
       "0.44      1.00\n",
       "0.48      2.00\n",
       "0.52      2.00\n",
       "0.56      3.00\n",
       "0.60      4.00\n",
       "0.64      5.00\n",
       "0.68      7.00\n",
       "0.72      9.00\n",
       "0.76     13.00\n",
       "0.80     19.00\n",
       "0.84     28.00\n",
       "0.88     43.00\n",
       "0.92     74.00\n",
       "0.96    175.04\n",
       "Name: score, dtype: float64"
      ]
     },
     "execution_count": 56,
     "metadata": {},
     "output_type": "execute_result"
    }
   ],
   "source": [
    "df2.score.quantile(np.linspace(.04, 1, 24, 0))"
   ]
  },
  {
   "cell_type": "code",
   "execution_count": 57,
   "metadata": {},
   "outputs": [
    {
     "data": {
      "text/plain": [
       "No-Votes       7842\n",
       "2-10 Votes     5489\n",
       "11-50 Votes    3135\n",
       "Popular        2143\n",
       "Non-Popular    1391\n",
       "Name: score, dtype: int64"
      ]
     },
     "execution_count": 57,
     "metadata": {},
     "output_type": "execute_result"
    }
   ],
   "source": [
    "pd.cut(\n",
    "    df2.score, [-10000, 0, 1, 10, 50, 10000],\n",
    "    labels=['Non-Popular', 'No-Votes', '2-10 Votes', '11-50 Votes', 'Popular']).value_counts()"
   ]
  },
  {
   "cell_type": "code",
   "execution_count": 58,
   "metadata": {},
   "outputs": [],
   "source": [
    "df2['score_category'] = pd.cut(\n",
    "    df2.score, [-100000, 0, 1, 10, 50, 100000],\n",
    "    labels=['Non-Popular', 'No-Votes', '2-10 Votes', '11-50 Votes', 'Popular'])"
   ]
  },
  {
   "cell_type": "code",
   "execution_count": 59,
   "metadata": {},
   "outputs": [
    {
     "data": {
      "text/plain": [
       "Index(['Non-Popular', 'No-Votes', '2-10 Votes', '11-50 Votes', 'Popular'], dtype='object')"
      ]
     },
     "execution_count": 59,
     "metadata": {},
     "output_type": "execute_result"
    }
   ],
   "source": [
    "df2.score_category.cat.categories"
   ]
  },
  {
   "cell_type": "code",
   "execution_count": 60,
   "metadata": {},
   "outputs": [
    {
     "data": {
      "text/html": [
       "<div>\n",
       "<style scoped>\n",
       "    .dataframe tbody tr th:only-of-type {\n",
       "        vertical-align: middle;\n",
       "    }\n",
       "\n",
       "    .dataframe tbody tr th {\n",
       "        vertical-align: top;\n",
       "    }\n",
       "\n",
       "    .dataframe thead th {\n",
       "        text-align: right;\n",
       "    }\n",
       "</style>\n",
       "<table border=\"1\" class=\"dataframe\">\n",
       "  <thead>\n",
       "    <tr style=\"text-align: right;\">\n",
       "      <th></th>\n",
       "      <th>score_category</th>\n",
       "      <th>0</th>\n",
       "    </tr>\n",
       "  </thead>\n",
       "  <tbody>\n",
       "    <tr>\n",
       "      <th>19990</th>\n",
       "      <td>11-50 Votes</td>\n",
       "      <td>3</td>\n",
       "    </tr>\n",
       "    <tr>\n",
       "      <th>19991</th>\n",
       "      <td>No-Votes</td>\n",
       "      <td>1</td>\n",
       "    </tr>\n",
       "    <tr>\n",
       "      <th>19992</th>\n",
       "      <td>Non-Popular</td>\n",
       "      <td>0</td>\n",
       "    </tr>\n",
       "    <tr>\n",
       "      <th>19993</th>\n",
       "      <td>2-10 Votes</td>\n",
       "      <td>2</td>\n",
       "    </tr>\n",
       "    <tr>\n",
       "      <th>19994</th>\n",
       "      <td>No-Votes</td>\n",
       "      <td>1</td>\n",
       "    </tr>\n",
       "    <tr>\n",
       "      <th>19995</th>\n",
       "      <td>2-10 Votes</td>\n",
       "      <td>2</td>\n",
       "    </tr>\n",
       "    <tr>\n",
       "      <th>19996</th>\n",
       "      <td>Non-Popular</td>\n",
       "      <td>0</td>\n",
       "    </tr>\n",
       "    <tr>\n",
       "      <th>19997</th>\n",
       "      <td>No-Votes</td>\n",
       "      <td>1</td>\n",
       "    </tr>\n",
       "    <tr>\n",
       "      <th>19998</th>\n",
       "      <td>No-Votes</td>\n",
       "      <td>1</td>\n",
       "    </tr>\n",
       "    <tr>\n",
       "      <th>19999</th>\n",
       "      <td>2-10 Votes</td>\n",
       "      <td>2</td>\n",
       "    </tr>\n",
       "  </tbody>\n",
       "</table>\n",
       "</div>"
      ],
      "text/plain": [
       "      score_category  0\n",
       "19990    11-50 Votes  3\n",
       "19991       No-Votes  1\n",
       "19992    Non-Popular  0\n",
       "19993     2-10 Votes  2\n",
       "19994       No-Votes  1\n",
       "19995     2-10 Votes  2\n",
       "19996    Non-Popular  0\n",
       "19997       No-Votes  1\n",
       "19998       No-Votes  1\n",
       "19999     2-10 Votes  2"
      ]
     },
     "execution_count": 60,
     "metadata": {},
     "output_type": "execute_result"
    }
   ],
   "source": [
    "pd.concat([df2.score_category, df2.score_category.cat.codes], axis=1).tail(10)"
   ]
  },
  {
   "cell_type": "code",
   "execution_count": 61,
   "metadata": {},
   "outputs": [],
   "source": [
    "df2[\"Numerical_Score\"] = pd.concat([df2.score_category.cat.codes])"
   ]
  },
  {
   "cell_type": "code",
   "execution_count": 62,
   "metadata": {},
   "outputs": [
    {
     "data": {
      "text/html": [
       "<div>\n",
       "<style scoped>\n",
       "    .dataframe tbody tr th:only-of-type {\n",
       "        vertical-align: middle;\n",
       "    }\n",
       "\n",
       "    .dataframe tbody tr th {\n",
       "        vertical-align: top;\n",
       "    }\n",
       "\n",
       "    .dataframe thead th {\n",
       "        text-align: right;\n",
       "    }\n",
       "</style>\n",
       "<table border=\"1\" class=\"dataframe\">\n",
       "  <thead>\n",
       "    <tr style=\"text-align: right;\">\n",
       "      <th></th>\n",
       "      <th>title</th>\n",
       "      <th>archived</th>\n",
       "      <th>author</th>\n",
       "      <th>author_flair_text</th>\n",
       "      <th>created_utc</th>\n",
       "      <th>subreddit_id</th>\n",
       "      <th>score</th>\n",
       "      <th>retrieved_on</th>\n",
       "      <th>gilded</th>\n",
       "      <th>id</th>\n",
       "      <th>subreddit</th>\n",
       "      <th>distinguished</th>\n",
       "      <th>url</th>\n",
       "      <th>num_comments</th>\n",
       "      <th>score_category</th>\n",
       "      <th>Numerical_Score</th>\n",
       "    </tr>\n",
       "  </thead>\n",
       "  <tbody>\n",
       "    <tr>\n",
       "      <th>0</th>\n",
       "      <td>Job Description for the Stay-At-Home Mom Job D...</td>\n",
       "      <td>NaN</td>\n",
       "      <td>Donaldfxre</td>\n",
       "      <td>NaN</td>\n",
       "      <td>1556668800</td>\n",
       "      <td>t5_yy0v9</td>\n",
       "      <td>1</td>\n",
       "      <td>1556755178</td>\n",
       "      <td>0</td>\n",
       "      <td>bjalrb</td>\n",
       "      <td>u_Donaldfxre</td>\n",
       "      <td>NaN</td>\n",
       "      <td>https://fastmoney.moneybot.in.net/job-descript...</td>\n",
       "      <td>0</td>\n",
       "      <td>No-Votes</td>\n",
       "      <td>1</td>\n",
       "    </tr>\n",
       "    <tr>\n",
       "      <th>1</th>\n",
       "      <td>Because I’ve hurt my bf (M24) in the past I (F...</td>\n",
       "      <td>False</td>\n",
       "      <td>throwaway9173649266</td>\n",
       "      <td>NaN</td>\n",
       "      <td>1556668800</td>\n",
       "      <td>t5_2qjvn</td>\n",
       "      <td>1</td>\n",
       "      <td>1560620602</td>\n",
       "      <td>0</td>\n",
       "      <td>bjalrc</td>\n",
       "      <td>relationships</td>\n",
       "      <td>NaN</td>\n",
       "      <td>https://www.reddit.com/r/relationships/comment...</td>\n",
       "      <td>1</td>\n",
       "      <td>No-Votes</td>\n",
       "      <td>1</td>\n",
       "    </tr>\n",
       "    <tr>\n",
       "      <th>2</th>\n",
       "      <td>Found this Music Note Watch On The Street In A...</td>\n",
       "      <td>False</td>\n",
       "      <td>[deleted]</td>\n",
       "      <td>NaN</td>\n",
       "      <td>1556668800</td>\n",
       "      <td>t5_2ti4h</td>\n",
       "      <td>16</td>\n",
       "      <td>1560620602</td>\n",
       "      <td>0</td>\n",
       "      <td>bjalrd</td>\n",
       "      <td>mildlyinteresting</td>\n",
       "      <td>NaN</td>\n",
       "      <td>https://i.redd.it/xjahiippphv21.png</td>\n",
       "      <td>1</td>\n",
       "      <td>11-50 Votes</td>\n",
       "      <td>3</td>\n",
       "    </tr>\n",
       "    <tr>\n",
       "      <th>3</th>\n",
       "      <td>Once I had a nightmare that started looking ov...</td>\n",
       "      <td>False</td>\n",
       "      <td>Jackson-King</td>\n",
       "      <td>🎉 1,000,000 Attendee! 🎉</td>\n",
       "      <td>1556668800</td>\n",
       "      <td>t5_2rjli</td>\n",
       "      <td>6</td>\n",
       "      <td>1560620602</td>\n",
       "      <td>0</td>\n",
       "      <td>bjalre</td>\n",
       "      <td>teenagers</td>\n",
       "      <td>NaN</td>\n",
       "      <td>https://www.reddit.com/r/teenagers/comments/bj...</td>\n",
       "      <td>3</td>\n",
       "      <td>2-10 Votes</td>\n",
       "      <td>2</td>\n",
       "    </tr>\n",
       "    <tr>\n",
       "      <th>4</th>\n",
       "      <td>Babe with Big Ass Fucks in Ripped Fishnets and...</td>\n",
       "      <td>False</td>\n",
       "      <td>hot-x</td>\n",
       "      <td>NaN</td>\n",
       "      <td>1556668800</td>\n",
       "      <td>t5_wnujb</td>\n",
       "      <td>1</td>\n",
       "      <td>1560620602</td>\n",
       "      <td>0</td>\n",
       "      <td>bjalrf</td>\n",
       "      <td>make_me_cum</td>\n",
       "      <td>NaN</td>\n",
       "      <td>https://www.pornhub.com/view_video.php?viewkey...</td>\n",
       "      <td>0</td>\n",
       "      <td>No-Votes</td>\n",
       "      <td>1</td>\n",
       "    </tr>\n",
       "  </tbody>\n",
       "</table>\n",
       "</div>"
      ],
      "text/plain": [
       "                                               title archived  \\\n",
       "0  Job Description for the Stay-At-Home Mom Job D...      NaN   \n",
       "1  Because I’ve hurt my bf (M24) in the past I (F...    False   \n",
       "2  Found this Music Note Watch On The Street In A...    False   \n",
       "3  Once I had a nightmare that started looking ov...    False   \n",
       "4  Babe with Big Ass Fucks in Ripped Fishnets and...    False   \n",
       "\n",
       "                author        author_flair_text  created_utc subreddit_id  \\\n",
       "0           Donaldfxre                      NaN   1556668800     t5_yy0v9   \n",
       "1  throwaway9173649266                      NaN   1556668800     t5_2qjvn   \n",
       "2            [deleted]                      NaN   1556668800     t5_2ti4h   \n",
       "3         Jackson-King  🎉 1,000,000 Attendee! 🎉   1556668800     t5_2rjli   \n",
       "4                hot-x                      NaN   1556668800     t5_wnujb   \n",
       "\n",
       "   score  retrieved_on  gilded      id          subreddit distinguished  \\\n",
       "0      1    1556755178       0  bjalrb       u_Donaldfxre           NaN   \n",
       "1      1    1560620602       0  bjalrc      relationships           NaN   \n",
       "2     16    1560620602       0  bjalrd  mildlyinteresting           NaN   \n",
       "3      6    1560620602       0  bjalre          teenagers           NaN   \n",
       "4      1    1560620602       0  bjalrf        make_me_cum           NaN   \n",
       "\n",
       "                                                 url  num_comments  \\\n",
       "0  https://fastmoney.moneybot.in.net/job-descript...             0   \n",
       "1  https://www.reddit.com/r/relationships/comment...             1   \n",
       "2                https://i.redd.it/xjahiippphv21.png             1   \n",
       "3  https://www.reddit.com/r/teenagers/comments/bj...             3   \n",
       "4  https://www.pornhub.com/view_video.php?viewkey...             0   \n",
       "\n",
       "  score_category  Numerical_Score  \n",
       "0       No-Votes                1  \n",
       "1       No-Votes                1  \n",
       "2    11-50 Votes                3  \n",
       "3     2-10 Votes                2  \n",
       "4       No-Votes                1  "
      ]
     },
     "execution_count": 62,
     "metadata": {},
     "output_type": "execute_result"
    }
   ],
   "source": [
    "df2.head()"
   ]
  },
  {
   "cell_type": "code",
   "execution_count": 63,
   "metadata": {},
   "outputs": [
    {
     "name": "stdout",
     "output_type": "stream",
     "text": [
      "<class 'pandas.core.frame.DataFrame'>\n",
      "Int64Index: 20000 entries, 0 to 19999\n",
      "Data columns (total 16 columns):\n",
      "title                20000 non-null object\n",
      "archived             19858 non-null object\n",
      "author               20000 non-null object\n",
      "author_flair_text    2044 non-null object\n",
      "created_utc          20000 non-null int64\n",
      "subreddit_id         20000 non-null object\n",
      "score                20000 non-null int16\n",
      "retrieved_on         20000 non-null int64\n",
      "gilded               20000 non-null int64\n",
      "id                   20000 non-null object\n",
      "subreddit            20000 non-null object\n",
      "distinguished        221 non-null object\n",
      "url                  20000 non-null object\n",
      "num_comments         20000 non-null int64\n",
      "score_category       20000 non-null category\n",
      "Numerical_Score      20000 non-null int8\n",
      "dtypes: category(1), int16(1), int64(4), int8(1), object(9)\n",
      "memory usage: 2.2+ MB\n"
     ]
    }
   ],
   "source": [
    "df2.info()"
   ]
  },
  {
   "cell_type": "code",
   "execution_count": 64,
   "metadata": {},
   "outputs": [],
   "source": [
    "df2.to_csv(\"testing_data.csv\")"
   ]
  },
  {
   "cell_type": "markdown",
   "metadata": {},
   "source": [
    "### Validation Data"
   ]
  },
  {
   "cell_type": "code",
   "execution_count": 65,
   "metadata": {},
   "outputs": [
    {
     "data": {
      "text/html": [
       "<div>\n",
       "<style scoped>\n",
       "    .dataframe tbody tr th:only-of-type {\n",
       "        vertical-align: middle;\n",
       "    }\n",
       "\n",
       "    .dataframe tbody tr th {\n",
       "        vertical-align: top;\n",
       "    }\n",
       "\n",
       "    .dataframe thead th {\n",
       "        text-align: right;\n",
       "    }\n",
       "</style>\n",
       "<table border=\"1\" class=\"dataframe\">\n",
       "  <thead>\n",
       "    <tr style=\"text-align: right;\">\n",
       "      <th></th>\n",
       "      <th>title</th>\n",
       "      <th>archived</th>\n",
       "      <th>author</th>\n",
       "      <th>author_flair_text</th>\n",
       "      <th>created_utc</th>\n",
       "      <th>subreddit_id</th>\n",
       "      <th>score</th>\n",
       "      <th>retrieved_on</th>\n",
       "      <th>gilded</th>\n",
       "      <th>id</th>\n",
       "      <th>subreddit</th>\n",
       "      <th>distinguished</th>\n",
       "      <th>url</th>\n",
       "      <th>num_comments</th>\n",
       "    </tr>\n",
       "  </thead>\n",
       "  <tbody>\n",
       "    <tr>\n",
       "      <th>0</th>\n",
       "      <td>2ND DEAD MEME EVENT! TOP 5 MEMES WILL BE AWARD...</td>\n",
       "      <td>False</td>\n",
       "      <td>MelanieLN</td>\n",
       "      <td>NaN</td>\n",
       "      <td>1561991723</td>\n",
       "      <td>t5_11ihnf</td>\n",
       "      <td>2</td>\n",
       "      <td>1565735699</td>\n",
       "      <td>0</td>\n",
       "      <td>bveihe</td>\n",
       "      <td>ReviveDeadMeme</td>\n",
       "      <td>moderator</td>\n",
       "      <td>https://www.reddit.com/r/ReviveDeadMeme/commen...</td>\n",
       "      <td>1</td>\n",
       "    </tr>\n",
       "    <tr>\n",
       "      <th>1</th>\n",
       "      <td>Euphoria: S1 E3 \"Made You Look\" - Episode Disc...</td>\n",
       "      <td>False</td>\n",
       "      <td>nika</td>\n",
       "      <td>:ashtray:  welcome to pretzelmania</td>\n",
       "      <td>1561946463</td>\n",
       "      <td>t5_2ssjq</td>\n",
       "      <td>310</td>\n",
       "      <td>1566269606</td>\n",
       "      <td>0</td>\n",
       "      <td>bzjqe2</td>\n",
       "      <td>euphoria</td>\n",
       "      <td>moderator</td>\n",
       "      <td>https://www.reddit.com/r/euphoria/comments/bzj...</td>\n",
       "      <td>1478</td>\n",
       "    </tr>\n",
       "    <tr>\n",
       "      <th>2</th>\n",
       "      <td>ACRL GT3 Series - Round 4 @ Spa-Francorchamps ...</td>\n",
       "      <td>False</td>\n",
       "      <td>[deleted]</td>\n",
       "      <td>NaN</td>\n",
       "      <td>1561968539</td>\n",
       "      <td>t5_311cm</td>\n",
       "      <td>1</td>\n",
       "      <td>1566713016</td>\n",
       "      <td>0</td>\n",
       "      <td>c3dda6</td>\n",
       "      <td>acrl</td>\n",
       "      <td>NaN</td>\n",
       "      <td>https://www.reddit.com/r/acrl/comments/c3dda6/...</td>\n",
       "      <td>2</td>\n",
       "    </tr>\n",
       "    <tr>\n",
       "      <th>3</th>\n",
       "      <td>June 2019 Concept Awards Results+July 2019 Con...</td>\n",
       "      <td>False</td>\n",
       "      <td>ThatOneOrochiGuy</td>\n",
       "      <td>NaN</td>\n",
       "      <td>1561963826</td>\n",
       "      <td>t5_11q8pz</td>\n",
       "      <td>3</td>\n",
       "      <td>1566735756</td>\n",
       "      <td>0</td>\n",
       "      <td>c4eut2</td>\n",
       "      <td>smashconcepts</td>\n",
       "      <td>NaN</td>\n",
       "      <td>https://www.reddit.com/r/smashconcepts/comment...</td>\n",
       "      <td>6</td>\n",
       "    </tr>\n",
       "    <tr>\n",
       "      <th>4</th>\n",
       "      <td>The July 2019 Superthread: #LeaksByGoogle, Bat...</td>\n",
       "      <td>False</td>\n",
       "      <td>Racer_77</td>\n",
       "      <td>:partyparrot: The Wiki Mod™ :pixel2xlblack:</td>\n",
       "      <td>1561995021</td>\n",
       "      <td>t5_3aobb</td>\n",
       "      <td>52</td>\n",
       "      <td>1566749328</td>\n",
       "      <td>0</td>\n",
       "      <td>c4z439</td>\n",
       "      <td>GooglePixel</td>\n",
       "      <td>moderator</td>\n",
       "      <td>https://www.reddit.com/r/GooglePixel/comments/...</td>\n",
       "      <td>0</td>\n",
       "    </tr>\n",
       "  </tbody>\n",
       "</table>\n",
       "</div>"
      ],
      "text/plain": [
       "                                               title archived  \\\n",
       "0  2ND DEAD MEME EVENT! TOP 5 MEMES WILL BE AWARD...    False   \n",
       "1  Euphoria: S1 E3 \"Made You Look\" - Episode Disc...    False   \n",
       "2  ACRL GT3 Series - Round 4 @ Spa-Francorchamps ...    False   \n",
       "3  June 2019 Concept Awards Results+July 2019 Con...    False   \n",
       "4  The July 2019 Superthread: #LeaksByGoogle, Bat...    False   \n",
       "\n",
       "             author                            author_flair_text  created_utc  \\\n",
       "0         MelanieLN                                          NaN   1561991723   \n",
       "1              nika           :ashtray:  welcome to pretzelmania   1561946463   \n",
       "2         [deleted]                                          NaN   1561968539   \n",
       "3  ThatOneOrochiGuy                                          NaN   1561963826   \n",
       "4          Racer_77  :partyparrot: The Wiki Mod™ :pixel2xlblack:   1561995021   \n",
       "\n",
       "  subreddit_id  score  retrieved_on  gilded      id       subreddit  \\\n",
       "0    t5_11ihnf      2    1565735699       0  bveihe  ReviveDeadMeme   \n",
       "1     t5_2ssjq    310    1566269606       0  bzjqe2        euphoria   \n",
       "2     t5_311cm      1    1566713016       0  c3dda6            acrl   \n",
       "3    t5_11q8pz      3    1566735756       0  c4eut2   smashconcepts   \n",
       "4     t5_3aobb     52    1566749328       0  c4z439     GooglePixel   \n",
       "\n",
       "  distinguished                                                url  \\\n",
       "0     moderator  https://www.reddit.com/r/ReviveDeadMeme/commen...   \n",
       "1     moderator  https://www.reddit.com/r/euphoria/comments/bzj...   \n",
       "2           NaN  https://www.reddit.com/r/acrl/comments/c3dda6/...   \n",
       "3           NaN  https://www.reddit.com/r/smashconcepts/comment...   \n",
       "4     moderator  https://www.reddit.com/r/GooglePixel/comments/...   \n",
       "\n",
       "   num_comments  \n",
       "0             1  \n",
       "1          1478  \n",
       "2             2  \n",
       "3             6  \n",
       "4             0  "
      ]
     },
     "execution_count": 65,
     "metadata": {},
     "output_type": "execute_result"
    }
   ],
   "source": [
    "df3.head()"
   ]
  },
  {
   "cell_type": "code",
   "execution_count": 66,
   "metadata": {},
   "outputs": [
    {
     "data": {
      "text/plain": [
       "(20000, 14)"
      ]
     },
     "execution_count": 66,
     "metadata": {},
     "output_type": "execute_result"
    }
   ],
   "source": [
    "nan_idx = df3.loc[df3.title.isnull()].index\n",
    "df3.drop(df3.index[[nan_idx]], inplace=True)\n",
    "df3.shape"
   ]
  },
  {
   "cell_type": "code",
   "execution_count": 67,
   "metadata": {},
   "outputs": [],
   "source": [
    "df3['score'] = df3['score'].astype('category')\n",
    "cat_columns = df3.select_dtypes(['category']).columns\n",
    "df3[cat_columns] = df3[cat_columns].apply(lambda x: x.cat.codes)"
   ]
  },
  {
   "cell_type": "code",
   "execution_count": 68,
   "metadata": {},
   "outputs": [
    {
     "name": "stdout",
     "output_type": "stream",
     "text": [
      "<class 'pandas.core.frame.DataFrame'>\n",
      "Int64Index: 20000 entries, 0 to 19999\n",
      "Data columns (total 14 columns):\n",
      "title                20000 non-null object\n",
      "archived             19697 non-null object\n",
      "author               20000 non-null object\n",
      "author_flair_text    2072 non-null object\n",
      "created_utc          20000 non-null int64\n",
      "subreddit_id         20000 non-null object\n",
      "score                20000 non-null int16\n",
      "retrieved_on         20000 non-null int64\n",
      "gilded               20000 non-null int64\n",
      "id                   20000 non-null object\n",
      "subreddit            20000 non-null object\n",
      "distinguished        226 non-null object\n",
      "url                  20000 non-null object\n",
      "num_comments         20000 non-null int64\n",
      "dtypes: int16(1), int64(4), object(9)\n",
      "memory usage: 2.2+ MB\n",
      "Min score in tha table : 0\n",
      "Max score in tha table : 678\n"
     ]
    }
   ],
   "source": [
    "df3.info()\n",
    "print(\"Min score in tha table : \" + str(df3['score'].min()))\n",
    "print(\"Max score in tha table : \" + str(df3['score'].max()))"
   ]
  },
  {
   "cell_type": "code",
   "execution_count": 69,
   "metadata": {},
   "outputs": [
    {
     "data": {
      "text/plain": [
       "count    20000.000000\n",
       "mean        25.727900\n",
       "std         78.822508\n",
       "min          0.000000\n",
       "25%          1.000000\n",
       "50%          2.000000\n",
       "75%         12.000000\n",
       "max        678.000000\n",
       "Name: score, dtype: float64"
      ]
     },
     "execution_count": 69,
     "metadata": {},
     "output_type": "execute_result"
    }
   ],
   "source": [
    "df3.score.describe()"
   ]
  },
  {
   "cell_type": "code",
   "execution_count": 70,
   "metadata": {},
   "outputs": [
    {
     "data": {
      "image/png": "[encoded data removed]",
      "text/plain": [
       "<Figure size 720x504 with 1 Axes>"
      ]
     },
     "metadata": {},
     "output_type": "display_data"
    }
   ],
   "source": [
    "sns.set_style('whitegrid')\n",
    "fig, ax = plt.subplots(figsize=(10, 7))\n",
    "df3['score'].hist(ax=ax, bins=100, edgecolor='black')\n",
    "ax.set_yscale('log', nonposy='clip')\n",
    "plt.tick_params(axis='both', which='major', labelsize=16)\n",
    "plt.xlim([0,8000])\n",
    "_ = ax.set_xlabel('score', fontsize=16)\n",
    "_ = ax.set_ylabel('Occurrence', fontsize=16)"
   ]
  },
  {
   "cell_type": "code",
   "execution_count": 71,
   "metadata": {},
   "outputs": [
    {
     "data": {
      "image/png": "[encoded data removed]",
      "text/plain": [
       "<Figure size 1080x360 with 1 Axes>"
      ]
     },
     "metadata": {},
     "output_type": "display_data"
    }
   ],
   "source": [
    "from sklearn.preprocessing import power_transform\n",
    "scores = power_transform(df3.score.values.reshape(-1,1), method='yeo-johnson')\n",
    "plt.figure(figsize=(15, 5))\n",
    "sns.distplot(scores);"
   ]
  },
  {
   "cell_type": "code",
   "execution_count": 72,
   "metadata": {},
   "outputs": [
    {
     "data": {
      "text/plain": [
       "0.04      0.00\n",
       "0.08      1.00\n",
       "0.12      1.00\n",
       "0.16      1.00\n",
       "0.20      1.00\n",
       "0.24      1.00\n",
       "0.28      1.00\n",
       "0.32      1.00\n",
       "0.36      1.00\n",
       "0.40      1.00\n",
       "0.44      1.00\n",
       "0.48      2.00\n",
       "0.52      2.00\n",
       "0.56      3.00\n",
       "0.60      4.00\n",
       "0.64      5.00\n",
       "0.68      7.00\n",
       "0.72      9.00\n",
       "0.76     13.00\n",
       "0.80     19.00\n",
       "0.84     28.00\n",
       "0.88     41.00\n",
       "0.92     70.08\n",
       "0.96    165.00\n",
       "Name: score, dtype: float64"
      ]
     },
     "execution_count": 72,
     "metadata": {},
     "output_type": "execute_result"
    }
   ],
   "source": [
    "df3.score.quantile(np.linspace(.04, 1, 24, 0))"
   ]
  },
  {
   "cell_type": "code",
   "execution_count": 73,
   "metadata": {},
   "outputs": [
    {
     "data": {
      "text/plain": [
       "No-Votes       7915\n",
       "2-10 Votes     5316\n",
       "11-50 Votes    3289\n",
       "Popular        2055\n",
       "Non-Popular    1425\n",
       "Name: score, dtype: int64"
      ]
     },
     "execution_count": 73,
     "metadata": {},
     "output_type": "execute_result"
    }
   ],
   "source": [
    "pd.cut(\n",
    "    df3.score, [-10000, 0, 1, 10, 50, 10000],\n",
    "    labels=['Non-Popular', 'No-Votes', '2-10 Votes', '11-50 Votes', 'Popular']).value_counts()"
   ]
  },
  {
   "cell_type": "code",
   "execution_count": 74,
   "metadata": {},
   "outputs": [],
   "source": [
    "df3['score_category'] = pd.cut(\n",
    "    df3.score, [-100000, 0, 1, 10, 50, 100000],\n",
    "    labels=['Non-Popular', 'No-Votes', '2-10 Votes', '11-50 Votes', 'Popular'])"
   ]
  },
  {
   "cell_type": "code",
   "execution_count": 75,
   "metadata": {},
   "outputs": [
    {
     "data": {
      "text/plain": [
       "Index(['Non-Popular', 'No-Votes', '2-10 Votes', '11-50 Votes', 'Popular'], dtype='object')"
      ]
     },
     "execution_count": 75,
     "metadata": {},
     "output_type": "execute_result"
    }
   ],
   "source": [
    "df3.score_category.cat.categories"
   ]
  },
  {
   "cell_type": "code",
   "execution_count": 76,
   "metadata": {},
   "outputs": [
    {
     "data": {
      "text/html": [
       "<div>\n",
       "<style scoped>\n",
       "    .dataframe tbody tr th:only-of-type {\n",
       "        vertical-align: middle;\n",
       "    }\n",
       "\n",
       "    .dataframe tbody tr th {\n",
       "        vertical-align: top;\n",
       "    }\n",
       "\n",
       "    .dataframe thead th {\n",
       "        text-align: right;\n",
       "    }\n",
       "</style>\n",
       "<table border=\"1\" class=\"dataframe\">\n",
       "  <thead>\n",
       "    <tr style=\"text-align: right;\">\n",
       "      <th></th>\n",
       "      <th>score_category</th>\n",
       "      <th>0</th>\n",
       "    </tr>\n",
       "  </thead>\n",
       "  <tbody>\n",
       "    <tr>\n",
       "      <th>19990</th>\n",
       "      <td>No-Votes</td>\n",
       "      <td>1</td>\n",
       "    </tr>\n",
       "    <tr>\n",
       "      <th>19991</th>\n",
       "      <td>2-10 Votes</td>\n",
       "      <td>2</td>\n",
       "    </tr>\n",
       "    <tr>\n",
       "      <th>19992</th>\n",
       "      <td>2-10 Votes</td>\n",
       "      <td>2</td>\n",
       "    </tr>\n",
       "    <tr>\n",
       "      <th>19993</th>\n",
       "      <td>11-50 Votes</td>\n",
       "      <td>3</td>\n",
       "    </tr>\n",
       "    <tr>\n",
       "      <th>19994</th>\n",
       "      <td>2-10 Votes</td>\n",
       "      <td>2</td>\n",
       "    </tr>\n",
       "    <tr>\n",
       "      <th>19995</th>\n",
       "      <td>Non-Popular</td>\n",
       "      <td>0</td>\n",
       "    </tr>\n",
       "    <tr>\n",
       "      <th>19996</th>\n",
       "      <td>Popular</td>\n",
       "      <td>4</td>\n",
       "    </tr>\n",
       "    <tr>\n",
       "      <th>19997</th>\n",
       "      <td>11-50 Votes</td>\n",
       "      <td>3</td>\n",
       "    </tr>\n",
       "    <tr>\n",
       "      <th>19998</th>\n",
       "      <td>11-50 Votes</td>\n",
       "      <td>3</td>\n",
       "    </tr>\n",
       "    <tr>\n",
       "      <th>19999</th>\n",
       "      <td>Popular</td>\n",
       "      <td>4</td>\n",
       "    </tr>\n",
       "  </tbody>\n",
       "</table>\n",
       "</div>"
      ],
      "text/plain": [
       "      score_category  0\n",
       "19990       No-Votes  1\n",
       "19991     2-10 Votes  2\n",
       "19992     2-10 Votes  2\n",
       "19993    11-50 Votes  3\n",
       "19994     2-10 Votes  2\n",
       "19995    Non-Popular  0\n",
       "19996        Popular  4\n",
       "19997    11-50 Votes  3\n",
       "19998    11-50 Votes  3\n",
       "19999        Popular  4"
      ]
     },
     "execution_count": 76,
     "metadata": {},
     "output_type": "execute_result"
    }
   ],
   "source": [
    "pd.concat([df3.score_category, df3.score_category.cat.codes], axis=1).tail(10)"
   ]
  },
  {
   "cell_type": "code",
   "execution_count": 77,
   "metadata": {},
   "outputs": [],
   "source": [
    "df3[\"Numerical_Score\"] = pd.concat([df3.score_category.cat.codes])"
   ]
  },
  {
   "cell_type": "code",
   "execution_count": 78,
   "metadata": {},
   "outputs": [
    {
     "data": {
      "text/html": [
       "<div>\n",
       "<style scoped>\n",
       "    .dataframe tbody tr th:only-of-type {\n",
       "        vertical-align: middle;\n",
       "    }\n",
       "\n",
       "    .dataframe tbody tr th {\n",
       "        vertical-align: top;\n",
       "    }\n",
       "\n",
       "    .dataframe thead th {\n",
       "        text-align: right;\n",
       "    }\n",
       "</style>\n",
       "<table border=\"1\" class=\"dataframe\">\n",
       "  <thead>\n",
       "    <tr style=\"text-align: right;\">\n",
       "      <th></th>\n",
       "      <th>title</th>\n",
       "      <th>archived</th>\n",
       "      <th>author</th>\n",
       "      <th>author_flair_text</th>\n",
       "      <th>created_utc</th>\n",
       "      <th>subreddit_id</th>\n",
       "      <th>score</th>\n",
       "      <th>retrieved_on</th>\n",
       "      <th>gilded</th>\n",
       "      <th>id</th>\n",
       "      <th>subreddit</th>\n",
       "      <th>distinguished</th>\n",
       "      <th>url</th>\n",
       "      <th>num_comments</th>\n",
       "      <th>score_category</th>\n",
       "      <th>Numerical_Score</th>\n",
       "    </tr>\n",
       "  </thead>\n",
       "  <tbody>\n",
       "    <tr>\n",
       "      <th>0</th>\n",
       "      <td>2ND DEAD MEME EVENT! TOP 5 MEMES WILL BE AWARD...</td>\n",
       "      <td>False</td>\n",
       "      <td>MelanieLN</td>\n",
       "      <td>NaN</td>\n",
       "      <td>1561991723</td>\n",
       "      <td>t5_11ihnf</td>\n",
       "      <td>2</td>\n",
       "      <td>1565735699</td>\n",
       "      <td>0</td>\n",
       "      <td>bveihe</td>\n",
       "      <td>ReviveDeadMeme</td>\n",
       "      <td>moderator</td>\n",
       "      <td>https://www.reddit.com/r/ReviveDeadMeme/commen...</td>\n",
       "      <td>1</td>\n",
       "      <td>2-10 Votes</td>\n",
       "      <td>2</td>\n",
       "    </tr>\n",
       "    <tr>\n",
       "      <th>1</th>\n",
       "      <td>Euphoria: S1 E3 \"Made You Look\" - Episode Disc...</td>\n",
       "      <td>False</td>\n",
       "      <td>nika</td>\n",
       "      <td>:ashtray:  welcome to pretzelmania</td>\n",
       "      <td>1561946463</td>\n",
       "      <td>t5_2ssjq</td>\n",
       "      <td>290</td>\n",
       "      <td>1566269606</td>\n",
       "      <td>0</td>\n",
       "      <td>bzjqe2</td>\n",
       "      <td>euphoria</td>\n",
       "      <td>moderator</td>\n",
       "      <td>https://www.reddit.com/r/euphoria/comments/bzj...</td>\n",
       "      <td>1478</td>\n",
       "      <td>Popular</td>\n",
       "      <td>4</td>\n",
       "    </tr>\n",
       "    <tr>\n",
       "      <th>2</th>\n",
       "      <td>ACRL GT3 Series - Round 4 @ Spa-Francorchamps ...</td>\n",
       "      <td>False</td>\n",
       "      <td>[deleted]</td>\n",
       "      <td>NaN</td>\n",
       "      <td>1561968539</td>\n",
       "      <td>t5_311cm</td>\n",
       "      <td>1</td>\n",
       "      <td>1566713016</td>\n",
       "      <td>0</td>\n",
       "      <td>c3dda6</td>\n",
       "      <td>acrl</td>\n",
       "      <td>NaN</td>\n",
       "      <td>https://www.reddit.com/r/acrl/comments/c3dda6/...</td>\n",
       "      <td>2</td>\n",
       "      <td>No-Votes</td>\n",
       "      <td>1</td>\n",
       "    </tr>\n",
       "    <tr>\n",
       "      <th>3</th>\n",
       "      <td>June 2019 Concept Awards Results+July 2019 Con...</td>\n",
       "      <td>False</td>\n",
       "      <td>ThatOneOrochiGuy</td>\n",
       "      <td>NaN</td>\n",
       "      <td>1561963826</td>\n",
       "      <td>t5_11q8pz</td>\n",
       "      <td>3</td>\n",
       "      <td>1566735756</td>\n",
       "      <td>0</td>\n",
       "      <td>c4eut2</td>\n",
       "      <td>smashconcepts</td>\n",
       "      <td>NaN</td>\n",
       "      <td>https://www.reddit.com/r/smashconcepts/comment...</td>\n",
       "      <td>6</td>\n",
       "      <td>2-10 Votes</td>\n",
       "      <td>2</td>\n",
       "    </tr>\n",
       "    <tr>\n",
       "      <th>4</th>\n",
       "      <td>The July 2019 Superthread: #LeaksByGoogle, Bat...</td>\n",
       "      <td>False</td>\n",
       "      <td>Racer_77</td>\n",
       "      <td>:partyparrot: The Wiki Mod™ :pixel2xlblack:</td>\n",
       "      <td>1561995021</td>\n",
       "      <td>t5_3aobb</td>\n",
       "      <td>52</td>\n",
       "      <td>1566749328</td>\n",
       "      <td>0</td>\n",
       "      <td>c4z439</td>\n",
       "      <td>GooglePixel</td>\n",
       "      <td>moderator</td>\n",
       "      <td>https://www.reddit.com/r/GooglePixel/comments/...</td>\n",
       "      <td>0</td>\n",
       "      <td>Popular</td>\n",
       "      <td>4</td>\n",
       "    </tr>\n",
       "  </tbody>\n",
       "</table>\n",
       "</div>"
      ],
      "text/plain": [
       "                                               title archived  \\\n",
       "0  2ND DEAD MEME EVENT! TOP 5 MEMES WILL BE AWARD...    False   \n",
       "1  Euphoria: S1 E3 \"Made You Look\" - Episode Disc...    False   \n",
       "2  ACRL GT3 Series - Round 4 @ Spa-Francorchamps ...    False   \n",
       "3  June 2019 Concept Awards Results+July 2019 Con...    False   \n",
       "4  The July 2019 Superthread: #LeaksByGoogle, Bat...    False   \n",
       "\n",
       "             author                            author_flair_text  created_utc  \\\n",
       "0         MelanieLN                                          NaN   1561991723   \n",
       "1              nika           :ashtray:  welcome to pretzelmania   1561946463   \n",
       "2         [deleted]                                          NaN   1561968539   \n",
       "3  ThatOneOrochiGuy                                          NaN   1561963826   \n",
       "4          Racer_77  :partyparrot: The Wiki Mod™ :pixel2xlblack:   1561995021   \n",
       "\n",
       "  subreddit_id  score  retrieved_on  gilded      id       subreddit  \\\n",
       "0    t5_11ihnf      2    1565735699       0  bveihe  ReviveDeadMeme   \n",
       "1     t5_2ssjq    290    1566269606       0  bzjqe2        euphoria   \n",
       "2     t5_311cm      1    1566713016       0  c3dda6            acrl   \n",
       "3    t5_11q8pz      3    1566735756       0  c4eut2   smashconcepts   \n",
       "4     t5_3aobb     52    1566749328       0  c4z439     GooglePixel   \n",
       "\n",
       "  distinguished                                                url  \\\n",
       "0     moderator  https://www.reddit.com/r/ReviveDeadMeme/commen...   \n",
       "1     moderator  https://www.reddit.com/r/euphoria/comments/bzj...   \n",
       "2           NaN  https://www.reddit.com/r/acrl/comments/c3dda6/...   \n",
       "3           NaN  https://www.reddit.com/r/smashconcepts/comment...   \n",
       "4     moderator  https://www.reddit.com/r/GooglePixel/comments/...   \n",
       "\n",
       "   num_comments score_category  Numerical_Score  \n",
       "0             1     2-10 Votes                2  \n",
       "1          1478        Popular                4  \n",
       "2             2       No-Votes                1  \n",
       "3             6     2-10 Votes                2  \n",
       "4             0        Popular                4  "
      ]
     },
     "execution_count": 78,
     "metadata": {},
     "output_type": "execute_result"
    }
   ],
   "source": [
    "df3.head()"
   ]
  },
  {
   "cell_type": "code",
   "execution_count": 79,
   "metadata": {},
   "outputs": [
    {
     "name": "stdout",
     "output_type": "stream",
     "text": [
      "<class 'pandas.core.frame.DataFrame'>\n",
      "Int64Index: 20000 entries, 0 to 19999\n",
      "Data columns (total 16 columns):\n",
      "title                20000 non-null object\n",
      "archived             19697 non-null object\n",
      "author               20000 non-null object\n",
      "author_flair_text    2072 non-null object\n",
      "created_utc          20000 non-null int64\n",
      "subreddit_id         20000 non-null object\n",
      "score                20000 non-null int16\n",
      "retrieved_on         20000 non-null int64\n",
      "gilded               20000 non-null int64\n",
      "id                   20000 non-null object\n",
      "subreddit            20000 non-null object\n",
      "distinguished        226 non-null object\n",
      "url                  20000 non-null object\n",
      "num_comments         20000 non-null int64\n",
      "score_category       20000 non-null category\n",
      "Numerical_Score      20000 non-null int8\n",
      "dtypes: category(1), int16(1), int64(4), int8(1), object(9)\n",
      "memory usage: 2.2+ MB\n"
     ]
    }
   ],
   "source": [
    "df3.info()"
   ]
  },
  {
   "cell_type": "code",
   "execution_count": 80,
   "metadata": {},
   "outputs": [],
   "source": [
    "df3.to_csv(\"validation_data.csv\")"
   ]
  },
  {
   "cell_type": "code",
   "execution_count": 81,
   "metadata": {},
   "outputs": [
    {
     "name": "stdout",
     "output_type": "stream",
     "text": [
      " Volume in drive C is OS\n",
      " Volume Serial Number is D02B-1246\n",
      "\n",
      " Directory of C:\\Users\\somak\\Desktop\\Python-Reddit-Data-Prediction-Machine-Learning\n",
      "\n",
      "2020-04-21  06:18 PM        71,282,650 RS_2019_01_02_03_04.csv\n",
      "2020-04-21  06:18 PM        36,320,928 RS_2019_05_06.csv\n",
      "2020-04-21  06:18 PM        36,030,582 RS_2019_07_08.csv\n",
      "               3 File(s)    143,634,160 bytes\n",
      "               0 Dir(s)  98,432,016,384 bytes free\n"
     ]
    }
   ],
   "source": [
    "%ls RS*.csv"
   ]
  },
  {
   "cell_type": "code",
   "execution_count": 82,
   "metadata": {},
   "outputs": [
    {
     "name": "stdout",
     "output_type": "stream",
     "text": [
      "RS_2019_01_02_03_04.csv remove !!!!\n",
      "RS_2019_05_06.csv remove !!!!\n",
      "RS_2019_07_08.csv remove !!!!\n"
     ]
    }
   ],
   "source": [
    "for filename in os.listdir():\n",
    "    if filename.endswith(\".csv\") and filename.startswith(\"RS\"):\n",
    "        os.remove(filename)\n",
    "        print(filename, \"remove !!!!\")"
   ]
  },
  {
   "cell_type": "code",
   "execution_count": 83,
   "metadata": {},
   "outputs": [
    {
     "name": "stdout",
     "output_type": "stream",
     "text": [
      " Volume in drive C is OS\n",
      " Volume Serial Number is D02B-1246\n",
      "\n",
      " Directory of C:\\Users\\somak\\Desktop\\Python-Reddit-Data-Prediction-Machine-Learning\n",
      "\n"
     ]
    },
    {
     "name": "stderr",
     "output_type": "stream",
     "text": [
      "File Not Found\n"
     ]
    }
   ],
   "source": [
    "%ls RS*.csv"
   ]
  }
 ],
 "metadata": {
  "kernelspec": {
   "display_name": "Python 3",
   "language": "python",
   "name": "python3"
  },
  "language_info": {
   "codemirror_mode": {
    "name": "ipython",
    "version": 3
   },
   "file_extension": ".py",
   "mimetype": "text/x-python",
   "name": "python",
   "nbconvert_exporter": "python",
   "pygments_lexer": "ipython3",
   "version": "3.7.3"
  }
 },
 "nbformat": 4,
 "nbformat_minor": 2
}
